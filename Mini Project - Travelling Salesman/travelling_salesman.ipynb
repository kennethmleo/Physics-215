{
 "cells": [
  {
   "cell_type": "code",
   "execution_count": 137,
   "metadata": {},
   "outputs": [],
   "source": [
    "using DataFrames\n",
    "using BenchmarkTools\n",
    "using Plots\n",
    "using Animations"
   ]
  },
  {
   "cell_type": "code",
   "execution_count": 138,
   "metadata": {},
   "outputs": [
    {
     "data": {
      "text/plain": [
       "measure_distance (generic function with 1 method)"
      ]
     },
     "execution_count": 138,
     "metadata": {},
     "output_type": "execute_result"
    }
   ],
   "source": [
    "function measure_distance(cities)\n",
    "    city1, city2 = cities, [circshift(cities[i],(-1)) for i in 1:length(cities)]\n",
    "    x1, y1 = city1[1], city1[2]\n",
    "    x2, y2 = city2[1], city2[2]\n",
    "    distance = sqrt.(((x2-x1).^2)+((y2-y1).^2))\n",
    "    return sum(distance)\n",
    "end\n",
    "    "
   ]
  },
  {
   "cell_type": "code",
   "execution_count": 143,
   "metadata": {},
   "outputs": [
    {
     "data": {
      "text/plain": [
       "find_new_route (generic function with 1 method)"
      ]
     },
     "execution_count": 143,
     "metadata": {},
     "output_type": "execute_result"
    }
   ],
   "source": [
    "function find_new_route(cities)\n",
    "    new_cities = copy(cities)\n",
    "    p = rand(1:N)\n",
    "    l = rand(1:N÷2)\n",
    "    if p+l <= N\n",
    "        new_cities[1][p:p+l] = cities[1][p:p+l][end:-1:1]\n",
    "        new_cities[2][p:p+l] = cities[2][p:p+l][end:-1:1]\n",
    "        return new_cities\n",
    "    else\n",
    "        return cities\n",
    "    end\n",
    "end"
   ]
  },
  {
   "cell_type": "code",
   "execution_count": 144,
   "metadata": {},
   "outputs": [
    {
     "data": {
      "text/plain": [
       "threshold_algorithm (generic function with 1 method)"
      ]
     },
     "execution_count": 144,
     "metadata": {},
     "output_type": "execute_result"
    }
   ],
   "source": [
    "function threshold_algorithm(cities)\n",
    "    newcities = find_new_route(cities)\n",
    "    if measure_distance(newcities) <= measure_distance(cities)\n",
    "        cities = newcities\n",
    "    end\n",
    "    return cities\n",
    "end"
   ]
  },
  {
   "cell_type": "code",
   "execution_count": 145,
   "metadata": {},
   "outputs": [
    {
     "data": {
      "text/plain": [
       "boltzmann_algorithm (generic function with 1 method)"
      ]
     },
     "execution_count": 145,
     "metadata": {},
     "output_type": "execute_result"
    }
   ],
   "source": [
    "function boltzmann_algorithm(cities,T)\n",
    "    cities_ = find_new_route(cities)\n",
    "    if T > measure_distance(cities_) - measure_distance(cities)\n",
    "        cities = cities_\n",
    "    end\n",
    "    return cities\n",
    "end"
   ]
  },
  {
   "cell_type": "code",
   "execution_count": 146,
   "metadata": {},
   "outputs": [],
   "source": [
    "L = 1\n",
    "N = 10\n",
    "\n",
    "x = rand(N)\n",
    "y = rand(N)\n",
    "\n",
    "cities = [x,y]\n",
    "\n",
    "cities1, cities2 = cities, cities\n",
    "\n",
    "T = L/8 #initial temperature\n",
    "\n",
    "Temp = Vector{Float64}()\n",
    "normalized_length1 = Vector{Float64}()\n",
    "normalized_length2 = Vector{Float64}()\n",
    "\n",
    "\n",
    "iteration = 50\n",
    "for i in 1:iteration\n",
    "    push!(Temp, T)\n",
    "\n",
    "    l1 = measure_distance(cities1)/(L*sqrt(N))\n",
    "    l2 = measure_distance(cities2)/(L*sqrt(N))\n",
    "\n",
    "    push!(normalized_length1, l1)\n",
    "    push!(normalized_length2, l2)\n",
    "\n",
    "    cities1 = threshold_algorithm(cities1)\n",
    "    cities2 = boltzmann_algorithm(cities2, T)\n",
    "\n",
    "    if i%100==0\n",
    "        x=rand(0:1)\n",
    "        if x==0 T=T-0.1*T end\n",
    "        if x==1 T=T+0.1*T end\n",
    "    end\n",
    "end"
   ]
  },
  {
   "cell_type": "code",
   "execution_count": 148,
   "metadata": {},
   "outputs": [
    {
     "data": {
      "text/plain": [
       "50-element Vector{Float64}:\n",
       " 1.7347807137447864\n",
       " 1.697864733763122\n",
       " 1.5978550177789672\n",
       " 1.5180308142495325\n",
       " 1.8243033945510327\n",
       " 1.7220532949198448\n",
       " 1.945688347685558\n",
       " 1.8360120643524935\n",
       " 1.807143479698606\n",
       " 1.6484654596981005\n",
       " 1.4502038851040169\n",
       " 1.4553886517866144\n",
       " 1.6783896689130524\n",
       " ⋮\n",
       " 1.8464242269213993\n",
       " 1.8026428573564701\n",
       " 1.8466876291165255\n",
       " 1.8876046853398427\n",
       " 1.8888049675291305\n",
       " 1.5318070759480558\n",
       " 1.6799054264438982\n",
       " 1.776723808903418\n",
       " 1.896751233281583\n",
       " 1.80141354446484\n",
       " 2.061656731162132\n",
       " 2.0532295068606956"
      ]
     },
     "execution_count": 148,
     "metadata": {},
     "output_type": "execute_result"
    }
   ],
   "source": [
    "normalized_length2  "
   ]
  },
  {
   "cell_type": "code",
   "execution_count": 127,
   "metadata": {},
   "outputs": [
    {
     "data": {
      "text/plain": [
       "1"
      ]
     },
     "execution_count": 127,
     "metadata": {},
     "output_type": "execute_result"
    }
   ],
   "source": [
    "if 101%100"
   ]
  },
  {
   "cell_type": "code",
   "execution_count": null,
   "metadata": {},
   "outputs": [],
   "source": []
  }
 ],
 "metadata": {
  "kernelspec": {
   "display_name": "Julia 1.6.2",
   "language": "julia",
   "name": "julia-1.6"
  },
  "language_info": {
   "file_extension": ".jl",
   "mimetype": "application/julia",
   "name": "julia",
   "version": "1.6.2"
  },
  "orig_nbformat": 4
 },
 "nbformat": 4,
 "nbformat_minor": 2
}
