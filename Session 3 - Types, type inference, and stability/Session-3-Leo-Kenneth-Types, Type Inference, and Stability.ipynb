{
 "cells": [
  {
   "cell_type": "code",
   "execution_count": 1,
   "metadata": {},
   "outputs": [
    {
     "name": "stderr",
     "output_type": "stream",
     "text": [
      "\u001b[32m\u001b[1m  Activating\u001b[22m\u001b[39m new environment at `~/Documents/Github2/Physics-215-Julia/Session 3 - Types, type inference, and stability/Project.toml`\n"
     ]
    }
   ],
   "source": [
    "using Pkg\n",
    "Pkg.activate(\".\")"
   ]
  },
  {
   "cell_type": "markdown",
   "metadata": {},
   "source": [
    "### KR1: Shown or demonstrated the hierarchy of Julia's type hierarchy using the command `subtypes()`. Start from `Number` and use `subtypes()` to explore from *abstract types* to *specific types*. Use `supertype()` to determine the *parent* abstract type."
   ]
  },
  {
   "cell_type": "code",
   "execution_count": 2,
   "metadata": {},
   "outputs": [
    {
     "data": {
      "text/plain": [
       "2-element Vector{Any}:\n",
       " Complex\n",
       " Real"
      ]
     },
     "execution_count": 2,
     "metadata": {},
     "output_type": "execute_result"
    }
   ],
   "source": [
    "subtypes(Number)"
   ]
  },
  {
   "cell_type": "markdown",
   "metadata": {},
   "source": [
    "Looking at the code block above, we see that there are two subtypes below `Numbers` which are `Complex` and `Real` numbers. Now if we try to get the subtype of the Real numbers:"
   ]
  },
  {
   "cell_type": "code",
   "execution_count": 3,
   "metadata": {},
   "outputs": [
    {
     "data": {
      "text/plain": [
       "4-element Vector{Any}:\n",
       " AbstractFloat\n",
       " AbstractIrrational\n",
       " Integer\n",
       " Rational"
      ]
     },
     "execution_count": 3,
     "metadata": {},
     "output_type": "execute_result"
    }
   ],
   "source": [
    "subtypes(Real)"
   ]
  },
  {
   "cell_type": "code",
   "execution_count": 4,
   "metadata": {},
   "outputs": [
    {
     "data": {
      "text/plain": [
       "3-element Vector{Any}:\n",
       " Bool\n",
       " Signed\n",
       " Unsigned"
      ]
     },
     "execution_count": 4,
     "metadata": {},
     "output_type": "execute_result"
    }
   ],
   "source": [
    "subtypes(Integer)"
   ]
  },
  {
   "cell_type": "code",
   "execution_count": 5,
   "metadata": {},
   "outputs": [
    {
     "data": {
      "text/plain": [
       "6-element Vector{Any}:\n",
       " BigInt\n",
       " Int128\n",
       " Int16\n",
       " Int32\n",
       " Int64\n",
       " Int8"
      ]
     },
     "execution_count": 5,
     "metadata": {},
     "output_type": "execute_result"
    }
   ],
   "source": [
    "subtypes(Signed)"
   ]
  },
  {
   "cell_type": "code",
   "execution_count": 6,
   "metadata": {},
   "outputs": [
    {
     "data": {
      "text/plain": [
       "Signed"
      ]
     },
     "execution_count": 6,
     "metadata": {},
     "output_type": "execute_result"
    }
   ],
   "source": [
    "supertype(Int128)"
   ]
  },
  {
   "cell_type": "code",
   "execution_count": 7,
   "metadata": {},
   "outputs": [
    {
     "data": {
      "text/plain": [
       "Real"
      ]
     },
     "execution_count": 7,
     "metadata": {},
     "output_type": "execute_result"
    }
   ],
   "source": [
    "supertype(AbstractIrrational)"
   ]
  },
  {
   "cell_type": "markdown",
   "metadata": {},
   "source": [
    "We see from above that `subtypes()` shows us the more specific type under one data type while `supertype()` gives us the parent data type of the datatype inside the function. We an see from the image below taken from this [website](https://www.vtupulse.com/julia-tutorial/data-types-variables-and-values-in-julia/) shows us the data-type hierarchy in the form of a tree graph.\n",
    "\n",
    "![Data type hierarchy](data-types.png \"tree graph datatypes\")"
   ]
  },
  {
   "cell_type": "markdown",
   "metadata": {},
   "source": [
    "### KR2: Implemented and used at least one own composite type via `struct`. Generate two more versions that are mutable type and type-parametrized of the custom-built type."
   ]
  },
  {
   "cell_type": "markdown",
   "metadata": {},
   "source": [
    "What `struct` does is similar to `class` in Python. Here, we create a `DragRace` composite type containing the name of the Drag Race contestant (since Drag Race is a competition), the version of drag race, the season, and the placement of the contestant."
   ]
  },
  {
   "cell_type": "code",
   "execution_count": 9,
   "metadata": {},
   "outputs": [],
   "source": [
    "struct DragRace\n",
    "    name::String\n",
    "    version::String\n",
    "    season::Int\n",
    "    placement::Int\n",
    "end"
   ]
  },
  {
   "cell_type": "markdown",
   "metadata": {},
   "source": [
    "Now let us create some objects of type `DragRace`:"
   ]
  },
  {
   "cell_type": "code",
   "execution_count": 10,
   "metadata": {},
   "outputs": [],
   "source": [
    "trixie = DragRace(\"Trixie Mattel\", \"US\", 8, 6)\n",
    "awhora = DragRace(\"Awhora\", \"UK\", 2, 5);"
   ]
  },
  {
   "cell_type": "markdown",
   "metadata": {},
   "source": [
    "If we look at the types of our objects `trixie` and `violet`, we see that they are of type `DragRace`"
   ]
  },
  {
   "cell_type": "code",
   "execution_count": 11,
   "metadata": {},
   "outputs": [
    {
     "name": "stdout",
     "output_type": "stream",
     "text": [
      "DragRace\n",
      "DragRace\n"
     ]
    }
   ],
   "source": [
    "println(typeof(trixie))\n",
    "println(typeof(awhora))\n"
   ]
  },
  {
   "cell_type": "code",
   "execution_count": 12,
   "metadata": {},
   "outputs": [
    {
     "data": {
      "text/plain": [
       "(String, String, Int64, Int64)"
      ]
     },
     "execution_count": 12,
     "metadata": {},
     "output_type": "execute_result"
    }
   ],
   "source": [
    "fieldtypes(DragRace)"
   ]
  },
  {
   "cell_type": "markdown",
   "metadata": {},
   "source": [
    "Now, in the Drag Race competition, there is what we call an \"All-Star\" version of Drag Race where contestants from previous seasons that did not win compete again for a second chance. Now, suppose we want to update `trixie`'s season and Drag race version since she competed in Drag Race All-Star Season 3:"
   ]
  },
  {
   "cell_type": "code",
   "execution_count": 13,
   "metadata": {},
   "outputs": [
    {
     "ename": "LoadError",
     "evalue": "setfield! immutable struct of type DragRace cannot be changed",
     "output_type": "error",
     "traceback": [
      "setfield! immutable struct of type DragRace cannot be changed",
      "",
      "Stacktrace:",
      " [1] setproperty!(x::DragRace, f::Symbol, v::String)",
      "   @ Base ./Base.jl:34",
      " [2] top-level scope",
      "   @ In[13]:1",
      " [3] eval",
      "   @ ./boot.jl:360 [inlined]",
      " [4] include_string(mapexpr::typeof(REPL.softscope), mod::Module, code::String, filename::String)",
      "   @ Base ./loading.jl:1116"
     ]
    }
   ],
   "source": [
    "trixie.version = \"All Star\""
   ]
  },
  {
   "cell_type": "markdown",
   "metadata": {},
   "source": [
    "We see that we can't modify the composite objects of `DragRace` since it was declared with `struct`, making it immutable. To create mutable composite types, we use `mutable struct`."
   ]
  },
  {
   "cell_type": "code",
   "execution_count": 14,
   "metadata": {},
   "outputs": [],
   "source": [
    "mutable struct Mutable_DragRace\n",
    "    name::String\n",
    "    version::String\n",
    "    season::Int\n",
    "    placement::Int\n",
    "end"
   ]
  },
  {
   "cell_type": "code",
   "execution_count": 15,
   "metadata": {},
   "outputs": [
    {
     "data": {
      "text/plain": [
       "Mutable_DragRace(\"Trixie Mattel\", \"US\", 8, 6)"
      ]
     },
     "execution_count": 15,
     "metadata": {},
     "output_type": "execute_result"
    }
   ],
   "source": [
    "trixie = Mutable_DragRace(\"Trixie Mattel\", \"US\", 8, 6)"
   ]
  },
  {
   "cell_type": "markdown",
   "metadata": {},
   "source": [
    "Now, let's try to update Trixie Mattel's data."
   ]
  },
  {
   "cell_type": "code",
   "execution_count": 16,
   "metadata": {},
   "outputs": [
    {
     "data": {
      "text/plain": [
       "1"
      ]
     },
     "execution_count": 16,
     "metadata": {},
     "output_type": "execute_result"
    }
   ],
   "source": [
    "trixie.version = \"All Stars\"\n",
    "trixie.season = 3\n",
    "trixie.placement = 1"
   ]
  },
  {
   "cell_type": "code",
   "execution_count": 17,
   "metadata": {},
   "outputs": [
    {
     "data": {
      "text/plain": [
       "Mutable_DragRace(\"Trixie Mattel\", \"All Stars\", 3, 1)"
      ]
     },
     "execution_count": 17,
     "metadata": {},
     "output_type": "execute_result"
    }
   ],
   "source": [
    "trixie"
   ]
  },
  {
   "cell_type": "markdown",
   "metadata": {},
   "source": [
    "Looking at our data above, we can see that we are successfull in updating our `object` created using `mutable struct`. Now, let us make a parametric type, Parametric_DragRace{T} where T is a data-type. Now we can use this variable `T` in declaring the data type of our fields. Now, in this case we will only note the season and placement since they are both numbers."
   ]
  },
  {
   "cell_type": "code",
   "execution_count": 18,
   "metadata": {},
   "outputs": [],
   "source": [
    "struct Parametric_DragRace{T}\n",
    "    season::Vector{T}\n",
    "    placement::Vector{T}\n",
    "end"
   ]
  },
  {
   "cell_type": "code",
   "execution_count": 19,
   "metadata": {},
   "outputs": [
    {
     "data": {
      "text/plain": [
       "Parametric_DragRace{Float64}([2.0, 3.0], [12.0, 6.0])"
      ]
     },
     "execution_count": 19,
     "metadata": {},
     "output_type": "execute_result"
    }
   ],
   "source": [
    "shangela = Parametric_DragRace{Float64}([2.0,3.0],[12.0,6.0])"
   ]
  },
  {
   "cell_type": "code",
   "execution_count": 20,
   "metadata": {},
   "outputs": [
    {
     "data": {
      "text/plain": [
       "Parametric_DragRace{Int64}([2, 3], [12, 6])"
      ]
     },
     "execution_count": 20,
     "metadata": {},
     "output_type": "execute_result"
    }
   ],
   "source": [
    "shangela2 = Parametric_DragRace{Int64}([2.0,3.0],[12.0,6.0]) #converts values to Integer"
   ]
  },
  {
   "cell_type": "markdown",
   "metadata": {},
   "source": [
    "### KR3: Demostrated type inference in Julia. Generator expressions may be used for this."
   ]
  },
  {
   "cell_type": "code",
   "execution_count": 21,
   "metadata": {},
   "outputs": [
    {
     "data": {
      "text/plain": [
       "5-element Vector{Int64}:\n",
       " 1\n",
       " 2\n",
       " 3\n",
       " 4\n",
       " 5"
      ]
     },
     "execution_count": 21,
     "metadata": {},
     "output_type": "execute_result"
    }
   ],
   "source": [
    "[i for i in 1:5]"
   ]
  },
  {
   "cell_type": "code",
   "execution_count": 22,
   "metadata": {},
   "outputs": [
    {
     "data": {
      "text/plain": [
       "5-element Vector{Float64}:\n",
       " 1.0\n",
       " 2.0\n",
       " 3.0\n",
       " 4.0\n",
       " 5.0"
      ]
     },
     "execution_count": 22,
     "metadata": {},
     "output_type": "execute_result"
    }
   ],
   "source": [
    "[i for i in 1.0:5.0]"
   ]
  },
  {
   "cell_type": "code",
   "execution_count": 23,
   "metadata": {},
   "outputs": [
    {
     "data": {
      "text/plain": [
       "5-element Vector{String}:\n",
       " \"1\"\n",
       " \"2\"\n",
       " \"3\"\n",
       " \"4\"\n",
       " \"5\""
      ]
     },
     "execution_count": 23,
     "metadata": {},
     "output_type": "execute_result"
    }
   ],
   "source": [
    "[\"1\", \"2\", \"3\", \"4\", \"5\"]"
   ]
  },
  {
   "cell_type": "markdown",
   "metadata": {},
   "source": [
    "We can see from the different examples above that Julia can infer what data-type we have generated or put in our vectors."
   ]
  },
  {
   "cell_type": "markdown",
   "metadata": {},
   "source": [
    "### KR4: Created a function with inherent *type-instability*. Create a version of the function with fixed *type-instability* issues."
   ]
  },
  {
   "cell_type": "markdown",
   "metadata": {},
   "source": [
    "A function is said to be type-unstable when the type it returns depends on the value of the input and not just its type. For example, let's take a look at the example below, which is the ramp function which returns 0 if the input is negative or zero, and returns the value if its positive."
   ]
  },
  {
   "cell_type": "code",
   "execution_count": 62,
   "metadata": {},
   "outputs": [
    {
     "data": {
      "text/plain": [
       "ramp (generic function with 1 method)"
      ]
     },
     "execution_count": 62,
     "metadata": {},
     "output_type": "execute_result"
    }
   ],
   "source": [
    "function ramp(x)\n",
    "    if x <= 0 return 0 end\n",
    "    return x end"
   ]
  },
  {
   "cell_type": "code",
   "execution_count": 66,
   "metadata": {},
   "outputs": [
    {
     "name": "stdout",
     "output_type": "stream",
     "text": [
      "0 Int64\n",
      "0 Int64\n",
      "0 Int64\n",
      "1 Int64\n",
      "1.0 Float64\n"
     ]
    }
   ],
   "source": [
    "println(ramp(-1), \" \",  typeof(ramp(-1)))\n",
    "println(ramp(-1.0),\" \",  typeof(ramp(-1.0)))\n",
    "println(ramp(0),\" \",  typeof(ramp(0)))\n",
    "println(ramp(1),\" \",  typeof(ramp(1)))\n",
    "println(ramp(1.0),\" \",  typeof(ramp(1.0)))"
   ]
  },
  {
   "cell_type": "markdown",
   "metadata": {},
   "source": [
    "We observe type instability here because, yes the output type depends on the input, but there also some instance where it depends on the value of our input, which should not be the case. In our specific function, this happens because we returned `0` if our input value is `x<=0`. This means that if the value of our input is less than or equal to zero, it will always return an integer 0. To solve this we can rewrite the function as the one below:"
   ]
  },
  {
   "cell_type": "code",
   "execution_count": 68,
   "metadata": {},
   "outputs": [
    {
     "data": {
      "text/plain": [
       "ramp_v2 (generic function with 1 method)"
      ]
     },
     "execution_count": 68,
     "metadata": {},
     "output_type": "execute_result"
    }
   ],
   "source": [
    "function ramp_v2(x)\n",
    "    if x <= 0 return zero(eltype(x)) end\n",
    "    return x end"
   ]
  },
  {
   "cell_type": "code",
   "execution_count": 70,
   "metadata": {},
   "outputs": [
    {
     "name": "stdout",
     "output_type": "stream",
     "text": [
      "0 Int64\n",
      "0.0 Float64\n",
      "0 Int64\n",
      "1 Int64\n",
      "1.0 Float64\n"
     ]
    }
   ],
   "source": [
    "println(ramp_v2(-1), \" \",  typeof(ramp_v2(-1)))\n",
    "println(ramp_v2(-1.0),\" \",  typeof(ramp_v2(-1.0)))\n",
    "println(ramp_v2(0),\" \",  typeof(ramp_v2(0)))\n",
    "println(ramp_v2(1),\" \",  typeof(ramp_v2(1)))\n",
    "println(ramp_v2(1.0),\" \",  typeof(ramp_v2(1.0)))"
   ]
  },
  {
   "cell_type": "markdown",
   "metadata": {},
   "source": [
    "Now, we can see that our function is now type stable."
   ]
  },
  {
   "cell_type": "markdown",
   "metadata": {},
   "source": [
    "### KR5: Demonstration of how `@code_warntype` can be useful in detecting *type-instability*."
   ]
  },
  {
   "cell_type": "code",
   "execution_count": 73,
   "metadata": {
    "scrolled": true
   },
   "outputs": [
    {
     "name": "stdout",
     "output_type": "stream",
     "text": [
      "Variables\n",
      "  #self#\u001b[36m::Core.Const(ramp)\u001b[39m\n",
      "  x\u001b[36m::Float64\u001b[39m\n",
      "\n",
      "Body\u001b[91m\u001b[1m::Union{Float64, Int64}\u001b[22m\u001b[39m\n",
      "\u001b[90m1 ─\u001b[39m %1 = (x <= 0)\u001b[36m::Bool\u001b[39m\n",
      "\u001b[90m└──\u001b[39m      goto #3 if not %1\n",
      "\u001b[90m2 ─\u001b[39m      return 0\n",
      "\u001b[90m3 ─\u001b[39m      return x\n"
     ]
    }
   ],
   "source": [
    "@code_warntype ramp(-1.0)"
   ]
  },
  {
   "cell_type": "code",
   "execution_count": 74,
   "metadata": {},
   "outputs": [
    {
     "name": "stdout",
     "output_type": "stream",
     "text": [
      "Variables\n",
      "  #self#\u001b[36m::Core.Const(ramp_v2)\u001b[39m\n",
      "  x\u001b[36m::Float64\u001b[39m\n",
      "\n",
      "Body\u001b[36m::Float64\u001b[39m\n",
      "\u001b[90m1 ─\u001b[39m %1 = (x <= 0)\u001b[36m::Bool\u001b[39m\n",
      "\u001b[90m└──\u001b[39m      goto #3 if not %1\n",
      "\u001b[90m2 ─\u001b[39m %3 = Main.eltype(x)\u001b[36m::Core.Const(Float64)\u001b[39m\n",
      "\u001b[90m│  \u001b[39m %4 = Main.zero(%3)\u001b[36m::Core.Const(0.0)\u001b[39m\n",
      "\u001b[90m└──\u001b[39m      return %4\n",
      "\u001b[90m3 ─\u001b[39m      return x\n"
     ]
    }
   ],
   "source": [
    "@code_warntype ramp_v2(-1.0)"
   ]
  },
  {
   "cell_type": "markdown",
   "metadata": {},
   "source": [
    "We see that for the type-unstable function `ramp()` we get a warning in red font, saying that we are converting the `Float64` type to `Int64` which is not present in our corrected function `ramp_v2()`. We see in the @code_warntype of our second function that the type of our input-output has been preserved."
   ]
  },
  {
   "cell_type": "markdown",
   "metadata": {},
   "source": [
    "### KR6: Demonstration of how `Array`s containingh ambiguous/abstract types often results to slow execution"
   ]
  },
  {
   "cell_type": "markdown",
   "metadata": {},
   "source": [
    "For this one, we create different composite types, each having different data-types"
   ]
  },
  {
   "cell_type": "code",
   "execution_count": 25,
   "metadata": {},
   "outputs": [],
   "source": [
    "struct ConcreteFields\n",
    "    x::Float64\n",
    "end"
   ]
  },
  {
   "cell_type": "code",
   "execution_count": 26,
   "metadata": {},
   "outputs": [],
   "source": [
    "struct AbstractFields\n",
    "    x::AbstractFloat\n",
    "end"
   ]
  },
  {
   "cell_type": "code",
   "execution_count": 27,
   "metadata": {},
   "outputs": [],
   "source": [
    "struct ParametricFields{T <: AbstractFloat}\n",
    "    x::T\n",
    "end"
   ]
  },
  {
   "cell_type": "markdown",
   "metadata": {},
   "source": [
    "From the codes above, we have created three typed structures: a concrete type, an abstract, and a parametrized type of structures. Let us use this to create a vector containing N random numbers with different data-types."
   ]
  },
  {
   "cell_type": "code",
   "execution_count": 56,
   "metadata": {},
   "outputs": [],
   "source": [
    "N = 10_000\n",
    "\n",
    "concrete_vec = [ConcreteFields(rand()) for _ in 1:N]\n",
    "abstract_vec = [AbstractFields(rand()) for _ in 1:N]\n",
    "parametric_vec = [ParametricFields(rand()) for _ in 1:N];"
   ]
  },
  {
   "cell_type": "markdown",
   "metadata": {},
   "source": [
    "Let us create a function that calculates the sum of a given vector"
   ]
  },
  {
   "cell_type": "code",
   "execution_count": 57,
   "metadata": {
    "scrolled": true
   },
   "outputs": [
    {
     "data": {
      "text/plain": [
       "my_sum (generic function with 1 method)"
      ]
     },
     "execution_count": 57,
     "metadata": {},
     "output_type": "execute_result"
    }
   ],
   "source": [
    "function my_sum(vector)\n",
    "    s = 0.0\n",
    "    for i in vector s = s + i.x end\n",
    "    return s\n",
    "end"
   ]
  },
  {
   "cell_type": "markdown",
   "metadata": {},
   "source": [
    "Now let us take use `BenchmarkTools` to measure the execution time of the function using the different types."
   ]
  },
  {
   "cell_type": "code",
   "execution_count": 58,
   "metadata": {},
   "outputs": [],
   "source": [
    "using BenchmarkTools"
   ]
  },
  {
   "cell_type": "code",
   "execution_count": 59,
   "metadata": {},
   "outputs": [],
   "source": [
    "concrete_time = @benchmark my_sum(concrete_vec)\n",
    "abstract_time = @benchmark my_sum(abstract_vec)\n",
    "parametric_time = @benchmark my_sum(parametric_vec);"
   ]
  },
  {
   "cell_type": "code",
   "execution_count": 60,
   "metadata": {},
   "outputs": [
    {
     "name": "stdout",
     "output_type": "stream",
     "text": [
      "Trial(10.418 μs)\n",
      "Trial(243.745 μs)\n",
      "Trial(10.418 μs)\n"
     ]
    }
   ],
   "source": [
    "println(concrete_time)\n",
    "println(abstract_time)\n",
    "println(parametric_time)"
   ]
  },
  {
   "cell_type": "markdown",
   "metadata": {},
   "source": [
    "We see that using abstract types results in slow execution in code. So the lesson here is that, when you want your code to be optimized, make sure to always specify the type of your variables and be as concrete/specific as possible (use `Int64` for example and not just the abstract `Number` type)."
   ]
  },
  {
   "cell_type": "code",
   "execution_count": null,
   "metadata": {},
   "outputs": [],
   "source": []
  }
 ],
 "metadata": {
  "kernelspec": {
   "display_name": "Julia 1.6.2",
   "language": "julia",
   "name": "julia-1.6"
  },
  "language_info": {
   "file_extension": ".jl",
   "mimetype": "application/julia",
   "name": "julia",
   "version": "1.6.2"
  }
 },
 "nbformat": 4,
 "nbformat_minor": 2
}
