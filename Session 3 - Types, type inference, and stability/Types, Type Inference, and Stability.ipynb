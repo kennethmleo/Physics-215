{
 "cells": [
  {
   "cell_type": "code",
   "execution_count": 1,
   "metadata": {},
   "outputs": [
    {
     "name": "stderr",
     "output_type": "stream",
     "text": [
      "\u001b[32m\u001b[1m  Activating\u001b[22m\u001b[39m new environment at `~/Documents/Github2/Physics-215-Julia/Session 3 - Types, type inference, and stability/Project.toml`\n"
     ]
    }
   ],
   "source": [
    "using Pkg\n",
    "Pkg.activate(\".\")"
   ]
  },
  {
   "cell_type": "markdown",
   "metadata": {},
   "source": [
    "### KR1: Shown or demonstrated the hierarchy of Julia's type hierarchy using the command `subtypes()`. Start from `Number` and use `subtypes()` to explore from *abstract types* to *specific types*. Use `supertype()` to determine the *parent* abstract type."
   ]
  },
  {
   "cell_type": "code",
   "execution_count": 5,
   "metadata": {},
   "outputs": [
    {
     "data": {
      "text/plain": [
       "2-element Vector{Any}:\n",
       " Complex\n",
       " Real"
      ]
     },
     "execution_count": 5,
     "metadata": {},
     "output_type": "execute_result"
    }
   ],
   "source": [
    "subtypes(Number)"
   ]
  },
  {
   "cell_type": "markdown",
   "metadata": {},
   "source": [
    "Looking at the code block above, we see that there are two subtypes below `Numbers` which are `Complex` and `Real` numbers. Now if we try to get the subtype of the Real numbers:"
   ]
  },
  {
   "cell_type": "code",
   "execution_count": 6,
   "metadata": {},
   "outputs": [
    {
     "data": {
      "text/plain": [
       "4-element Vector{Any}:\n",
       " AbstractFloat\n",
       " AbstractIrrational\n",
       " Integer\n",
       " Rational"
      ]
     },
     "execution_count": 6,
     "metadata": {},
     "output_type": "execute_result"
    }
   ],
   "source": [
    "subtypes(Real)"
   ]
  },
  {
   "cell_type": "code",
   "execution_count": 8,
   "metadata": {},
   "outputs": [
    {
     "data": {
      "text/plain": [
       "3-element Vector{Any}:\n",
       " Bool\n",
       " Signed\n",
       " Unsigned"
      ]
     },
     "execution_count": 8,
     "metadata": {},
     "output_type": "execute_result"
    }
   ],
   "source": [
    "subtypes(Integer)"
   ]
  },
  {
   "cell_type": "code",
   "execution_count": 13,
   "metadata": {},
   "outputs": [
    {
     "data": {
      "text/plain": [
       "6-element Vector{Any}:\n",
       " BigInt\n",
       " Int128\n",
       " Int16\n",
       " Int32\n",
       " Int64\n",
       " Int8"
      ]
     },
     "execution_count": 13,
     "metadata": {},
     "output_type": "execute_result"
    }
   ],
   "source": [
    "subtypes(Signed)"
   ]
  },
  {
   "cell_type": "code",
   "execution_count": 14,
   "metadata": {},
   "outputs": [
    {
     "data": {
      "text/plain": [
       "Signed"
      ]
     },
     "execution_count": 14,
     "metadata": {},
     "output_type": "execute_result"
    }
   ],
   "source": [
    "supertype(Int128)"
   ]
  },
  {
   "cell_type": "code",
   "execution_count": 15,
   "metadata": {},
   "outputs": [
    {
     "data": {
      "text/plain": [
       "Real"
      ]
     },
     "execution_count": 15,
     "metadata": {},
     "output_type": "execute_result"
    }
   ],
   "source": [
    "supertype(AbstractIrrational)"
   ]
  },
  {
   "cell_type": "markdown",
   "metadata": {},
   "source": [
    "We see from above that `subtypes()` shows us the more specific type under one data type while `supertype()` gives us the parent data type of the datatype inside the function. We an see from the image below taken from this [website](https://www.vtupulse.com/julia-tutorial/data-types-variables-and-values-in-julia/) shows us the data-type hierarchy in the form of a tree graph.\n",
    "\n",
    "![Data type hierarchy](data-types.png \"tree graph datatypes\")"
   ]
  },
  {
   "cell_type": "markdown",
   "metadata": {},
   "source": [
    "### KR2: Implemented and used at least one own composite type via `struct`. Generate two more versions that are mutable type and type-parametrized of the custom-built type."
   ]
  },
  {
   "cell_type": "code",
   "execution_count": 16,
   "metadata": {},
   "outputs": [
    {
     "name": "stdout",
     "output_type": "stream",
     "text": [
      "search: \u001b[0m\u001b[1ms\u001b[22m\u001b[0m\u001b[1mt\u001b[22m\u001b[0m\u001b[1mr\u001b[22m\u001b[0m\u001b[1mu\u001b[22m\u001b[0m\u001b[1mc\u001b[22m\u001b[0m\u001b[1mt\u001b[22m i\u001b[0m\u001b[1ms\u001b[22ms\u001b[0m\u001b[1mt\u001b[22m\u001b[0m\u001b[1mr\u001b[22m\u001b[0m\u001b[1mu\u001b[22m\u001b[0m\u001b[1mc\u001b[22m\u001b[0m\u001b[1mt\u001b[22mtype mutable \u001b[0m\u001b[1ms\u001b[22m\u001b[0m\u001b[1mt\u001b[22m\u001b[0m\u001b[1mr\u001b[22m\u001b[0m\u001b[1mu\u001b[22m\u001b[0m\u001b[1mc\u001b[22m\u001b[0m\u001b[1mt\u001b[22m un\u001b[0m\u001b[1ms\u001b[22mafe_\u001b[0m\u001b[1mt\u001b[22m\u001b[0m\u001b[1mr\u001b[22m\u001b[0m\u001b[1mu\u001b[22mn\u001b[0m\u001b[1mc\u001b[22m\n",
      "\n"
     ]
    },
    {
     "data": {
      "text/latex": [
       "\\begin{verbatim}\n",
       "struct\n",
       "\\end{verbatim}\n",
       "The most commonly used kind of type in Julia is a struct, specified as a name and a set of fields.\n",
       "\n",
       "\\begin{verbatim}\n",
       "struct Point\n",
       "    x\n",
       "    y\n",
       "end\n",
       "\\end{verbatim}\n",
       "Fields can have type restrictions, which may be parameterized:\n",
       "\n",
       "\\begin{verbatim}\n",
       "struct Point{X}\n",
       "    x::X\n",
       "    y::Float64\n",
       "end\n",
       "\\end{verbatim}\n",
       "A struct can also declare an abstract super type via \\texttt{<:} syntax:\n",
       "\n",
       "\\begin{verbatim}\n",
       "struct Point <: AbstractPoint\n",
       "    x\n",
       "    y\n",
       "end\n",
       "\\end{verbatim}\n",
       "\\texttt{struct}s are immutable by default; an instance of one of these types cannot be modified after construction. Use \\href{@ref}{\\texttt{mutable struct}} instead to declare a type whose instances can be modified.\n",
       "\n",
       "See the manual section on \\href{@ref}{Composite Types} for more details, such as how to define constructors.\n",
       "\n"
      ],
      "text/markdown": [
       "```\n",
       "struct\n",
       "```\n",
       "\n",
       "The most commonly used kind of type in Julia is a struct, specified as a name and a set of fields.\n",
       "\n",
       "```julia\n",
       "struct Point\n",
       "    x\n",
       "    y\n",
       "end\n",
       "```\n",
       "\n",
       "Fields can have type restrictions, which may be parameterized:\n",
       "\n",
       "```julia\n",
       "struct Point{X}\n",
       "    x::X\n",
       "    y::Float64\n",
       "end\n",
       "```\n",
       "\n",
       "A struct can also declare an abstract super type via `<:` syntax:\n",
       "\n",
       "```julia\n",
       "struct Point <: AbstractPoint\n",
       "    x\n",
       "    y\n",
       "end\n",
       "```\n",
       "\n",
       "`struct`s are immutable by default; an instance of one of these types cannot be modified after construction. Use [`mutable struct`](@ref) instead to declare a type whose instances can be modified.\n",
       "\n",
       "See the manual section on [Composite Types](@ref) for more details, such as how to define constructors.\n"
      ],
      "text/plain": [
       "\u001b[36m  struct\u001b[39m\n",
       "\n",
       "  The most commonly used kind of type in Julia is a struct, specified as a\n",
       "  name and a set of fields.\n",
       "\n",
       "\u001b[36m  struct Point\u001b[39m\n",
       "\u001b[36m      x\u001b[39m\n",
       "\u001b[36m      y\u001b[39m\n",
       "\u001b[36m  end\u001b[39m\n",
       "\n",
       "  Fields can have type restrictions, which may be parameterized:\n",
       "\n",
       "\u001b[36m  struct Point{X}\u001b[39m\n",
       "\u001b[36m      x::X\u001b[39m\n",
       "\u001b[36m      y::Float64\u001b[39m\n",
       "\u001b[36m  end\u001b[39m\n",
       "\n",
       "  A struct can also declare an abstract super type via \u001b[36m<:\u001b[39m syntax:\n",
       "\n",
       "\u001b[36m  struct Point <: AbstractPoint\u001b[39m\n",
       "\u001b[36m      x\u001b[39m\n",
       "\u001b[36m      y\u001b[39m\n",
       "\u001b[36m  end\u001b[39m\n",
       "\n",
       "  \u001b[36mstruct\u001b[39ms are immutable by default; an instance of one of these types cannot\n",
       "  be modified after construction. Use \u001b[36mmutable struct\u001b[39m instead to declare a type\n",
       "  whose instances can be modified.\n",
       "\n",
       "  See the manual section on Composite Types for more details, such as how to\n",
       "  define constructors."
      ]
     },
     "execution_count": 16,
     "metadata": {},
     "output_type": "execute_result"
    }
   ],
   "source": [
    "?struct"
   ]
  },
  {
   "cell_type": "code",
   "execution_count": null,
   "metadata": {},
   "outputs": [],
   "source": []
  }
 ],
 "metadata": {
  "kernelspec": {
   "display_name": "Julia 1.6.2",
   "language": "julia",
   "name": "julia-1.6"
  },
  "language_info": {
   "file_extension": ".jl",
   "mimetype": "application/julia",
   "name": "julia",
   "version": "1.6.2"
  },
  "orig_nbformat": 4
 },
 "nbformat": 4,
 "nbformat_minor": 2
}
