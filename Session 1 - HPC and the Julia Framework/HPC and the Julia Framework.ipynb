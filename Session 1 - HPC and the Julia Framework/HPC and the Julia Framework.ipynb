{
 "cells": [
  {
   "cell_type": "code",
   "execution_count": 2,
   "metadata": {},
   "outputs": [
    {
     "name": "stderr",
     "output_type": "stream",
     "text": [
      "\u001b[32m\u001b[1m  Activating\u001b[22m\u001b[39m new environment at `~/Documents/Github2/Physics-215-Julia/Session 1 - HPC and the Julia Framework/Project.toml`\n"
     ]
    }
   ],
   "source": [
    "using Pkg\n",
    "Pkg.activate(\".\")"
   ]
  },
  {
   "cell_type": "markdown",
   "metadata": {},
   "source": [
    "### KR1: Use ```@code_*``` to examine a simple function. The `*` is replaceable by `native`, `typed`, `warntype`, and others. Discover them.\n",
    "\n",
    "Let us first define a simple function. Written below is a function that takes two variables and outputs their sum."
   ]
  },
  {
   "cell_type": "code",
   "execution_count": 3,
   "metadata": {},
   "outputs": [
    {
     "data": {
      "text/plain": [
       "f (generic function with 1 method)"
      ]
     },
     "execution_count": 3,
     "metadata": {},
     "output_type": "execute_result"
    }
   ],
   "source": [
    "function f(x,y) x + y end"
   ]
  },
  {
   "cell_type": "code",
   "execution_count": 4,
   "metadata": {},
   "outputs": [
    {
     "name": "stdout",
     "output_type": "stream",
     "text": [
      "\t\u001b[0m.section\t\u001b[0m__TEXT\u001b[0m,\u001b[0m__text\u001b[0m,\u001b[0mregular\u001b[0m,\u001b[0mpure_instructions\n",
      "\u001b[90m; ┌ @ In[3]:1 within `f'\u001b[39m\n",
      "\u001b[90m; │┌ @ int.jl:87 within `+'\u001b[39m\n",
      "\t\u001b[96m\u001b[1mleaq\u001b[22m\u001b[39m\t\u001b[33m(\u001b[39m\u001b[0m%rdi\u001b[0m,\u001b[0m%rsi\u001b[33m)\u001b[39m\u001b[0m, \u001b[0m%rax\n",
      "\u001b[90m; │└\u001b[39m\n",
      "\t\u001b[96m\u001b[1mretq\u001b[22m\u001b[39m\n",
      "\t\u001b[96m\u001b[1mnopw\u001b[22m\u001b[39m\t\u001b[0m%cs\u001b[0m:\u001b[33m(\u001b[39m\u001b[0m%rax\u001b[0m,\u001b[0m%rax\u001b[33m)\u001b[39m\n",
      "\u001b[90m; └\u001b[39m\n"
     ]
    }
   ],
   "source": [
    "@code_native f(1,2)"
   ]
  },
  {
   "cell_type": "code",
   "execution_count": 5,
   "metadata": {},
   "outputs": [
    {
     "data": {
      "text/plain": [
       "CodeInfo(\n",
       "\u001b[90m1 ─\u001b[39m %1 = Base.sitofp(Float64, y)\u001b[36m::Float64\u001b[39m\n",
       "\u001b[90m│  \u001b[39m %2 = Base.add_float(x, %1)\u001b[36m::Float64\u001b[39m\n",
       "\u001b[90m└──\u001b[39m      return %2\n",
       ") => Float64"
      ]
     },
     "execution_count": 5,
     "metadata": {},
     "output_type": "execute_result"
    }
   ],
   "source": [
    "@code_typed f(1.1,2)"
   ]
  },
  {
   "cell_type": "code",
   "execution_count": 6,
   "metadata": {},
   "outputs": [
    {
     "name": "stdout",
     "output_type": "stream",
     "text": [
      "Variables\n",
      "  #self#\u001b[36m::Core.Const(f)\u001b[39m\n",
      "  x\u001b[36m::Float64\u001b[39m\n",
      "  y\u001b[36m::Int64\u001b[39m\n",
      "\n",
      "Body\u001b[36m::Float64\u001b[39m\n",
      "\u001b[90m1 ─\u001b[39m %1 = (x + y)\u001b[36m::Float64\u001b[39m\n",
      "\u001b[90m└──\u001b[39m      return %1\n"
     ]
    }
   ],
   "source": [
    "@code_warntype f(1.1,2)"
   ]
  },
  {
   "cell_type": "code",
   "execution_count": 7,
   "metadata": {},
   "outputs": [
    {
     "data": {
      "text/plain": [
       "CodeInfo(\n",
       "\u001b[90m1 ─\u001b[39m %1 = x + y\n",
       "\u001b[90m└──\u001b[39m      return %1\n",
       ")"
      ]
     },
     "execution_count": 7,
     "metadata": {},
     "output_type": "execute_result"
    }
   ],
   "source": [
    "@code_lowered f(1,2)"
   ]
  },
  {
   "cell_type": "code",
   "execution_count": 8,
   "metadata": {},
   "outputs": [
    {
     "name": "stdout",
     "output_type": "stream",
     "text": [
      "\u001b[90m;  @ In[3]:1 within `f'\u001b[39m\n",
      "\u001b[95mdefine\u001b[39m \u001b[36mi64\u001b[39m \u001b[93m@julia_f_1908\u001b[39m\u001b[33m(\u001b[39m\u001b[36mi64\u001b[39m \u001b[95msignext\u001b[39m \u001b[0m%0\u001b[0m, \u001b[36mi64\u001b[39m \u001b[95msignext\u001b[39m \u001b[0m%1\u001b[33m)\u001b[39m \u001b[33m{\u001b[39m\n",
      "\u001b[91mtop:\u001b[39m\n",
      "\u001b[90m; ┌ @ int.jl:87 within `+'\u001b[39m\n",
      "   \u001b[0m%2 \u001b[0m= \u001b[96m\u001b[1madd\u001b[22m\u001b[39m \u001b[36mi64\u001b[39m \u001b[0m%1\u001b[0m, \u001b[0m%0\n",
      "\u001b[90m; └\u001b[39m\n",
      "  \u001b[96m\u001b[1mret\u001b[22m\u001b[39m \u001b[36mi64\u001b[39m \u001b[0m%2\n",
      "\u001b[33m}\u001b[39m\n"
     ]
    }
   ],
   "source": [
    "@code_llvm f(1,2)"
   ]
  },
  {
   "cell_type": "markdown",
   "metadata": {},
   "source": [
    "Now all of these `macro` functions are new to me so I will just to explain what I understood from our class discussion and some basic googling. These `macro` functions simply convert your `code` into another form of `code` that has a different expression that I believe is more readable by the machine. Using these `@code_*` macros also show us for example, the data types of our inputs, the step-by-step process inside the function and what the output is. In Julia, there are 5 `@code_*` marcos which are `native`, `typed`, `warntype`, `lowered`, and `llvm`. These difference macro functions are I believe just different formms of how the code is being implemented by Julia.\n",
    "\n",
    "It is also important for us to at least know how to implement these macros for cases when we are unsure of the data types of the processes that are happening inside a function. We can see for example in the code blocks above that the `code_*` marcos return `i64` and `float64` if our inputs are integers or floats for example. It also tells us the process that is being done. For example, in ` %2 = add i64 %1, %0`, we see that the function adds out inputs that are stored or located in `%1` and `%0`."
   ]
  },
  {
   "cell_type": "markdown",
   "metadata": {},
   "source": [
    "### KR2: Demonstrate that Julia is able to determine constants in codes.\n",
    "\n",
    "Let us create a new function `g(x)` that takes a single number then performs a sequence of multiplication and division"
   ]
  },
  {
   "cell_type": "code",
   "execution_count": 42,
   "metadata": {},
   "outputs": [
    {
     "data": {
      "text/plain": [
       "g (generic function with 1 method)"
      ]
     },
     "execution_count": 42,
     "metadata": {},
     "output_type": "execute_result"
    }
   ],
   "source": [
    "function g(x)\n",
    "    a = sqrt(5) * x\n",
    "    return exp(2) / a\n",
    "end"
   ]
  },
  {
   "cell_type": "code",
   "execution_count": 43,
   "metadata": {},
   "outputs": [
    {
     "name": "stdout",
     "output_type": "stream",
     "text": [
      "\u001b[90m;  @ In[42]:1 within `g'\u001b[39m\n",
      "\u001b[95mdefine\u001b[39m \u001b[36mdouble\u001b[39m \u001b[93m@julia_g_2003\u001b[39m\u001b[33m(\u001b[39m\u001b[36mdouble\u001b[39m \u001b[0m%0\u001b[33m)\u001b[39m \u001b[33m{\u001b[39m\n",
      "\u001b[91mtop:\u001b[39m\n",
      "\u001b[90m;  @ In[42]:2 within `g'\u001b[39m\n",
      "\u001b[90m; ┌ @ float.jl:332 within `*'\u001b[39m\n",
      "   \u001b[0m%1 \u001b[0m= \u001b[96m\u001b[1mfmul\u001b[22m\u001b[39m \u001b[36mdouble\u001b[39m \u001b[0m%0\u001b[0m, \u001b[33m0x4001E3779B97F4A8\u001b[39m\n",
      "\u001b[90m; └\u001b[39m\n",
      "\u001b[90m;  @ In[42]:3 within `g'\u001b[39m\n",
      "\u001b[90m; ┌ @ float.jl:335 within `/'\u001b[39m\n",
      "   \u001b[0m%2 \u001b[0m= \u001b[96m\u001b[1mfdiv\u001b[22m\u001b[39m \u001b[36mdouble\u001b[39m \u001b[33m0x401D8E64B8D4DDAE\u001b[39m\u001b[0m, \u001b[0m%1\n",
      "\u001b[90m; └\u001b[39m\n",
      "  \u001b[96m\u001b[1mret\u001b[22m\u001b[39m \u001b[36mdouble\u001b[39m \u001b[0m%2\n",
      "\u001b[33m}\u001b[39m\n"
     ]
    }
   ],
   "source": [
    "@code_llvm  g(1.1)"
   ]
  },
  {
   "cell_type": "markdown",
   "metadata": {},
   "source": [
    "Now the important part of the result of our `@code_llvm` are the following:\n",
    "```\n",
    "%1 = fmul double %0, 0x4001E3779B97F4A8\n",
    "%2 = fdiv double 0x401D8E64B8D4DDAE, %1\n",
    "```\n",
    "Now we see that `%1` represents the first line of our function which is `sqrt(5) * x`. We also see that the constant `sqrt(5)` has been stored in a memory location with value `0x4001E3779B97F4A8`. Now what Julia does is if it sees an expression that does not have a variable where it can be simplified into a single constant value, that value will be stored somewhere so that every time that specific value is needed, Julia will just pull the value from the storage instead of computing it again. This can also be seen in the next line where the value of `exp(2)` is now represented by `0x401D8E64B8D4DDAE`."
   ]
  },
  {
   "cell_type": "markdown",
   "metadata": {},
   "source": [
    "### KR3: Demonstrate Julia's type-inference and multiple dispatch.\n",
    "\n",
    "Now before we start creating functions, we must check first if there is already an exisiting Julia function that uses the same name. For example, if we want to create a named `measure` we must first check if it is already existing. We can do this by using the help command in Julia."
   ]
  },
  {
   "cell_type": "code",
   "execution_count": 44,
   "metadata": {},
   "outputs": [
    {
     "name": "stdout",
     "output_type": "stream",
     "text": [
      "search:\n",
      "\n",
      "Couldn't find \u001b[36mmeasure\u001b[39m\n",
      "Perhaps you meant merge\n"
     ]
    },
    {
     "data": {
      "text/latex": [
       "No documentation found.\n",
       "\n",
       "Binding \\texttt{measure} does not exist.\n",
       "\n"
      ],
      "text/markdown": [
       "No documentation found.\n",
       "\n",
       "Binding `measure` does not exist.\n"
      ],
      "text/plain": [
       "  No documentation found.\n",
       "\n",
       "  Binding \u001b[36mmeasure\u001b[39m does not exist."
      ]
     },
     "execution_count": 44,
     "metadata": {},
     "output_type": "execute_result"
    }
   ],
   "source": [
    "?measure"
   ]
  },
  {
   "cell_type": "markdown",
   "metadata": {},
   "source": [
    "We see that there are no built-in Julia functions that have the name measure. We also see that Julia gives us possible suggestions of functions that are similar to what we searched. Let us say for example, we plan on making a function with name `exp`."
   ]
  },
  {
   "cell_type": "code",
   "execution_count": 48,
   "metadata": {},
   "outputs": [
    {
     "name": "stdout",
     "output_type": "stream",
     "text": [
      "search: \u001b[0m\u001b[1ml\u001b[22m\u001b[0m\u001b[1mo\u001b[22m\u001b[0m\u001b[1mg\u001b[22m \u001b[0m\u001b[1ml\u001b[22m\u001b[0m\u001b[1mo\u001b[22m\u001b[0m\u001b[1mg\u001b[22m2 \u001b[0m\u001b[1ml\u001b[22m\u001b[0m\u001b[1mo\u001b[22m\u001b[0m\u001b[1mg\u001b[22m1p \u001b[0m\u001b[1ml\u001b[22m\u001b[0m\u001b[1mo\u001b[22m\u001b[0m\u001b[1mg\u001b[22m10 C\u001b[0m\u001b[1ml\u001b[22m\u001b[0m\u001b[1mo\u001b[22mn\u001b[0m\u001b[1mg\u001b[22m C\u001b[0m\u001b[1ml\u001b[22m\u001b[0m\u001b[1mo\u001b[22mn\u001b[0m\u001b[1mg\u001b[22mlong Cu\u001b[0m\u001b[1ml\u001b[22m\u001b[0m\u001b[1mo\u001b[22mn\u001b[0m\u001b[1mg\u001b[22m Cu\u001b[0m\u001b[1ml\u001b[22m\u001b[0m\u001b[1mo\u001b[22mn\u001b[0m\u001b[1mg\u001b[22mlong\n",
      "\n"
     ]
    },
    {
     "data": {
      "text/latex": [
       "\\begin{verbatim}\n",
       "log(b,x)\n",
       "\\end{verbatim}\n",
       "Compute the base \\texttt{b} logarithm of \\texttt{x}. Throws \\href{@ref}{\\texttt{DomainError}} for negative \\href{@ref}{\\texttt{Real}} arguments.\n",
       "\n",
       "\\section{Examples}\n",
       "\\begin{verbatim}\n",
       "julia> log(4,8)\n",
       "1.5\n",
       "\n",
       "julia> log(4,2)\n",
       "0.5\n",
       "\n",
       "julia> log(-2, 3)\n",
       "ERROR: DomainError with -2.0:\n",
       "log will only return a complex result if called with a complex argument. Try log(Complex(x)).\n",
       "Stacktrace:\n",
       " [1] throw_complex_domainerror(::Symbol, ::Float64) at ./math.jl:31\n",
       "[...]\n",
       "\n",
       "julia> log(2, -3)\n",
       "ERROR: DomainError with -3.0:\n",
       "log will only return a complex result if called with a complex argument. Try log(Complex(x)).\n",
       "Stacktrace:\n",
       " [1] throw_complex_domainerror(::Symbol, ::Float64) at ./math.jl:31\n",
       "[...]\n",
       "\\end{verbatim}\n",
       "\\begin{quote}\n",
       "\\textbf{note}\n",
       "\n",
       "Note\n",
       "\n",
       "If \\texttt{b} is a power of 2 or 10, \\href{@ref}{\\texttt{log2}} or \\href{@ref}{\\texttt{log10}} should be used, as these will typically be faster and more accurate. For example,\n",
       "\n",
       "\\begin{verbatim}\n",
       "julia> log(100,1000000)\n",
       "2.9999999999999996\n",
       "\n",
       "julia> log10(1000000)/2\n",
       "3.0\n",
       "\\end{verbatim}\n",
       "\\end{quote}\n",
       "\\rule{\\textwidth}{1pt}\n",
       "\\begin{verbatim}\n",
       "log(x)\n",
       "\\end{verbatim}\n",
       "Compute the natural logarithm of \\texttt{x}. Throws \\href{@ref}{\\texttt{DomainError}} for negative \\href{@ref}{\\texttt{Real}} arguments. Use complex negative arguments to obtain complex results.\n",
       "\n",
       "\\section{Examples}\n",
       "\\begin{verbatim}\n",
       "julia> log(2)\n",
       "0.6931471805599453\n",
       "\n",
       "julia> log(-3)\n",
       "ERROR: DomainError with -3.0:\n",
       "log will only return a complex result if called with a complex argument. Try log(Complex(x)).\n",
       "Stacktrace:\n",
       " [1] throw_complex_domainerror(::Symbol, ::Float64) at ./math.jl:31\n",
       "[...]\n",
       "\\end{verbatim}\n",
       "\\rule{\\textwidth}{1pt}\n",
       "\\begin{verbatim}\n",
       "log(A{T}::StridedMatrix{T})\n",
       "\\end{verbatim}\n",
       "If \\texttt{A} has no negative real eigenvalue, compute the principal matrix logarithm of \\texttt{A}, i.e. the unique matrix $X$ such that $e^X = A$ and $-\\pi < Im(\\lambda) < \\pi$ for all the eigenvalues $\\lambda$ of $X$. If \\texttt{A} has nonpositive eigenvalues, a nonprincipal matrix function is returned whenever possible.\n",
       "\n",
       "If \\texttt{A} is symmetric or Hermitian, its eigendecomposition (\\href{@ref}{\\texttt{eigen}}) is used, if \\texttt{A} is triangular an improved version of the inverse scaling and squaring method is employed (see \\footnotemark[AH12] and \\footnotemark[AHR13]). For general matrices, the complex Schur form (\\href{@ref}{\\texttt{schur}}) is computed and the triangular algorithm is used on the triangular factor.\n",
       "\n",
       "\\footnotetext[AH12]{Awad H. Al-Mohy and Nicholas J. Higham, \"Improved inverse  scaling and squaring algorithms for the matrix logarithm\", SIAM Journal on Scientific Computing, 34(4), 2012, C153-C169. \\href{https://doi.org/10.1137/110852553}{doi:10.1137/110852553}\n",
       "\n",
       "}\n",
       "\\footnotetext[AHR13]{Awad H. Al-Mohy, Nicholas J. Higham and Samuel D. Relton, \"Computing the Fréchet derivative of the matrix logarithm and estimating the condition number\", SIAM Journal on Scientific Computing, 35(4), 2013, C394-C410. \\href{https://doi.org/10.1137/120885991}{doi:10.1137/120885991}\n",
       "\n",
       "}\n",
       "\\section{Examples}\n",
       "\\begin{verbatim}\n",
       "julia> A = Matrix(2.7182818*I, 2, 2)\n",
       "2×2 Matrix{Float64}:\n",
       " 2.71828  0.0\n",
       " 0.0      2.71828\n",
       "\n",
       "julia> log(A)\n",
       "2×2 Matrix{Float64}:\n",
       " 1.0  0.0\n",
       " 0.0  1.0\n",
       "\\end{verbatim}\n"
      ],
      "text/markdown": [
       "```\n",
       "log(b,x)\n",
       "```\n",
       "\n",
       "Compute the base `b` logarithm of `x`. Throws [`DomainError`](@ref) for negative [`Real`](@ref) arguments.\n",
       "\n",
       "# Examples\n",
       "\n",
       "```jldoctest; filter = r\"Stacktrace:(\\n \\[[0-9]+\\].*)*\"\n",
       "julia> log(4,8)\n",
       "1.5\n",
       "\n",
       "julia> log(4,2)\n",
       "0.5\n",
       "\n",
       "julia> log(-2, 3)\n",
       "ERROR: DomainError with -2.0:\n",
       "log will only return a complex result if called with a complex argument. Try log(Complex(x)).\n",
       "Stacktrace:\n",
       " [1] throw_complex_domainerror(::Symbol, ::Float64) at ./math.jl:31\n",
       "[...]\n",
       "\n",
       "julia> log(2, -3)\n",
       "ERROR: DomainError with -3.0:\n",
       "log will only return a complex result if called with a complex argument. Try log(Complex(x)).\n",
       "Stacktrace:\n",
       " [1] throw_complex_domainerror(::Symbol, ::Float64) at ./math.jl:31\n",
       "[...]\n",
       "```\n",
       "\n",
       "!!! note\n",
       "    If `b` is a power of 2 or 10, [`log2`](@ref) or [`log10`](@ref) should be used, as these will typically be faster and more accurate. For example,\n",
       "\n",
       "    ```jldoctest\n",
       "    julia> log(100,1000000)\n",
       "    2.9999999999999996\n",
       "\n",
       "    julia> log10(1000000)/2\n",
       "    3.0\n",
       "    ```\n",
       "\n",
       "\n",
       "---\n",
       "\n",
       "```\n",
       "log(x)\n",
       "```\n",
       "\n",
       "Compute the natural logarithm of `x`. Throws [`DomainError`](@ref) for negative [`Real`](@ref) arguments. Use complex negative arguments to obtain complex results.\n",
       "\n",
       "# Examples\n",
       "\n",
       "```jldoctest; filter = r\"Stacktrace:(\\n \\[[0-9]+\\].*)*\"\n",
       "julia> log(2)\n",
       "0.6931471805599453\n",
       "\n",
       "julia> log(-3)\n",
       "ERROR: DomainError with -3.0:\n",
       "log will only return a complex result if called with a complex argument. Try log(Complex(x)).\n",
       "Stacktrace:\n",
       " [1] throw_complex_domainerror(::Symbol, ::Float64) at ./math.jl:31\n",
       "[...]\n",
       "```\n",
       "\n",
       "---\n",
       "\n",
       "```\n",
       "log(A{T}::StridedMatrix{T})\n",
       "```\n",
       "\n",
       "If `A` has no negative real eigenvalue, compute the principal matrix logarithm of `A`, i.e. the unique matrix $X$ such that $e^X = A$ and $-\\pi < Im(\\lambda) < \\pi$ for all the eigenvalues $\\lambda$ of $X$. If `A` has nonpositive eigenvalues, a nonprincipal matrix function is returned whenever possible.\n",
       "\n",
       "If `A` is symmetric or Hermitian, its eigendecomposition ([`eigen`](@ref)) is used, if `A` is triangular an improved version of the inverse scaling and squaring method is employed (see [^AH12] and [^AHR13]). For general matrices, the complex Schur form ([`schur`](@ref)) is computed and the triangular algorithm is used on the triangular factor.\n",
       "\n",
       "[^AH12]: Awad H. Al-Mohy and Nicholas J. Higham, \"Improved inverse  scaling and squaring algorithms for the matrix logarithm\", SIAM Journal on Scientific Computing, 34(4), 2012, C153-C169. [doi:10.1137/110852553](https://doi.org/10.1137/110852553)\n",
       "\n",
       "[^AHR13]: Awad H. Al-Mohy, Nicholas J. Higham and Samuel D. Relton, \"Computing the Fréchet derivative of the matrix logarithm and estimating the condition number\", SIAM Journal on Scientific Computing, 35(4), 2013, C394-C410. [doi:10.1137/120885991](https://doi.org/10.1137/120885991)\n",
       "\n",
       "# Examples\n",
       "\n",
       "```jldoctest\n",
       "julia> A = Matrix(2.7182818*I, 2, 2)\n",
       "2×2 Matrix{Float64}:\n",
       " 2.71828  0.0\n",
       " 0.0      2.71828\n",
       "\n",
       "julia> log(A)\n",
       "2×2 Matrix{Float64}:\n",
       " 1.0  0.0\n",
       " 0.0  1.0\n",
       "```\n"
      ],
      "text/plain": [
       "\u001b[36m  log(b,x)\u001b[39m\n",
       "\n",
       "  Compute the base \u001b[36mb\u001b[39m logarithm of \u001b[36mx\u001b[39m. Throws \u001b[36mDomainError\u001b[39m for negative \u001b[36mReal\u001b[39m\n",
       "  arguments.\n",
       "\n",
       "\u001b[1m  Examples\u001b[22m\n",
       "\u001b[1m  ≡≡≡≡≡≡≡≡≡≡\u001b[22m\n",
       "\n",
       "\u001b[36m  julia> log(4,8)\u001b[39m\n",
       "\u001b[36m  1.5\u001b[39m\n",
       "\u001b[36m  \u001b[39m\n",
       "\u001b[36m  julia> log(4,2)\u001b[39m\n",
       "\u001b[36m  0.5\u001b[39m\n",
       "\u001b[36m  \u001b[39m\n",
       "\u001b[36m  julia> log(-2, 3)\u001b[39m\n",
       "\u001b[36m  ERROR: DomainError with -2.0:\u001b[39m\n",
       "\u001b[36m  log will only return a complex result if called with a complex argument. Try log(Complex(x)).\u001b[39m\n",
       "\u001b[36m  Stacktrace:\u001b[39m\n",
       "\u001b[36m   [1] throw_complex_domainerror(::Symbol, ::Float64) at ./math.jl:31\u001b[39m\n",
       "\u001b[36m  [...]\u001b[39m\n",
       "\u001b[36m  \u001b[39m\n",
       "\u001b[36m  julia> log(2, -3)\u001b[39m\n",
       "\u001b[36m  ERROR: DomainError with -3.0:\u001b[39m\n",
       "\u001b[36m  log will only return a complex result if called with a complex argument. Try log(Complex(x)).\u001b[39m\n",
       "\u001b[36m  Stacktrace:\u001b[39m\n",
       "\u001b[36m   [1] throw_complex_domainerror(::Symbol, ::Float64) at ./math.jl:31\u001b[39m\n",
       "\u001b[36m  [...]\u001b[39m\n",
       "\n",
       "\u001b[36m\u001b[1m  │ \u001b[22m\u001b[39m\u001b[36m\u001b[1mNote\u001b[22m\u001b[39m\n",
       "\u001b[36m\u001b[1m  │\u001b[22m\u001b[39m\n",
       "\u001b[36m\u001b[1m  │\u001b[22m\u001b[39m  If \u001b[36mb\u001b[39m is a power of 2 or 10, \u001b[36mlog2\u001b[39m or \u001b[36mlog10\u001b[39m should be used, as these\n",
       "\u001b[36m\u001b[1m  │\u001b[22m\u001b[39m  will typically be faster and more accurate. For example,\n",
       "\u001b[36m\u001b[1m  │\u001b[22m\u001b[39m\n",
       "\u001b[36m\u001b[1m  │\u001b[22m\u001b[39m\u001b[36m  julia> log(100,1000000)\u001b[39m\n",
       "\u001b[36m\u001b[1m  │\u001b[22m\u001b[39m\u001b[36m  2.9999999999999996\u001b[39m\n",
       "\u001b[36m\u001b[1m  │\u001b[22m\u001b[39m\u001b[36m  \u001b[39m\n",
       "\u001b[36m\u001b[1m  │\u001b[22m\u001b[39m\u001b[36m  julia> log10(1000000)/2\u001b[39m\n",
       "\u001b[36m\u001b[1m  │\u001b[22m\u001b[39m\u001b[36m  3.0\u001b[39m\n",
       "\n",
       "  ────────────────────────────────────────────────────────────────────────────\n",
       "\n",
       "\u001b[36m  log(x)\u001b[39m\n",
       "\n",
       "  Compute the natural logarithm of \u001b[36mx\u001b[39m. Throws \u001b[36mDomainError\u001b[39m for negative \u001b[36mReal\u001b[39m\n",
       "  arguments. Use complex negative arguments to obtain complex results.\n",
       "\n",
       "\u001b[1m  Examples\u001b[22m\n",
       "\u001b[1m  ≡≡≡≡≡≡≡≡≡≡\u001b[22m\n",
       "\n",
       "\u001b[36m  julia> log(2)\u001b[39m\n",
       "\u001b[36m  0.6931471805599453\u001b[39m\n",
       "\u001b[36m  \u001b[39m\n",
       "\u001b[36m  julia> log(-3)\u001b[39m\n",
       "\u001b[36m  ERROR: DomainError with -3.0:\u001b[39m\n",
       "\u001b[36m  log will only return a complex result if called with a complex argument. Try log(Complex(x)).\u001b[39m\n",
       "\u001b[36m  Stacktrace:\u001b[39m\n",
       "\u001b[36m   [1] throw_complex_domainerror(::Symbol, ::Float64) at ./math.jl:31\u001b[39m\n",
       "\u001b[36m  [...]\u001b[39m\n",
       "\n",
       "  ────────────────────────────────────────────────────────────────────────────\n",
       "\n",
       "\u001b[36m  log(A{T}::StridedMatrix{T})\u001b[39m\n",
       "\n",
       "  If \u001b[36mA\u001b[39m has no negative real eigenvalue, compute the principal matrix logarithm\n",
       "  of \u001b[36mA\u001b[39m, i.e. the unique matrix \u001b[35mX\u001b[39m such that \u001b[35me^X = A\u001b[39m and \u001b[35m-\\pi < Im(\\lambda) <\n",
       "  \\pi\u001b[39m for all the eigenvalues \u001b[35m\\lambda\u001b[39m of \u001b[35mX\u001b[39m. If \u001b[36mA\u001b[39m has nonpositive eigenvalues,\n",
       "  a nonprincipal matrix function is returned whenever possible.\n",
       "\n",
       "  If \u001b[36mA\u001b[39m is symmetric or Hermitian, its eigendecomposition (\u001b[36meigen\u001b[39m) is used, if \u001b[36mA\u001b[39m\n",
       "  is triangular an improved version of the inverse scaling and squaring method\n",
       "  is employed (see \u001b[1m[^AH12]\u001b[22m and \u001b[1m[^AHR13]\u001b[22m). For general matrices, the complex\n",
       "  Schur form (\u001b[36mschur\u001b[39m) is computed and the triangular algorithm is used on the\n",
       "  triangular factor.\n",
       "\n",
       "  │ \u001b[0m\u001b[1m[^AH12]\u001b[22m\n",
       "  │\n",
       "  │  Awad H. Al-Mohy and Nicholas J. Higham, \"Improved inverse scaling\n",
       "  │  and squaring algorithms for the matrix logarithm\", SIAM Journal on\n",
       "  │  Scientific Computing, 34(4), 2012, C153-C169.\n",
       "  │  doi:10.1137/110852553 (https://doi.org/10.1137/110852553)\n",
       "\n",
       "  │ \u001b[0m\u001b[1m[^AHR13]\u001b[22m\n",
       "  │\n",
       "  │  Awad H. Al-Mohy, Nicholas J. Higham and Samuel D. Relton,\n",
       "  │  \"Computing the Fréchet derivative of the matrix logarithm and\n",
       "  │  estimating the condition number\", SIAM Journal on Scientific\n",
       "  │  Computing, 35(4), 2013, C394-C410. doi:10.1137/120885991\n",
       "  │  (https://doi.org/10.1137/120885991)\n",
       "\n",
       "\u001b[1m  Examples\u001b[22m\n",
       "\u001b[1m  ≡≡≡≡≡≡≡≡≡≡\u001b[22m\n",
       "\n",
       "\u001b[36m  julia> A = Matrix(2.7182818*I, 2, 2)\u001b[39m\n",
       "\u001b[36m  2×2 Matrix{Float64}:\u001b[39m\n",
       "\u001b[36m   2.71828  0.0\u001b[39m\n",
       "\u001b[36m   0.0      2.71828\u001b[39m\n",
       "\u001b[36m  \u001b[39m\n",
       "\u001b[36m  julia> log(A)\u001b[39m\n",
       "\u001b[36m  2×2 Matrix{Float64}:\u001b[39m\n",
       "\u001b[36m   1.0  0.0\u001b[39m\n",
       "\u001b[36m   0.0  1.0\u001b[39m"
      ]
     },
     "execution_count": 48,
     "metadata": {},
     "output_type": "execute_result"
    }
   ],
   "source": [
    "?log"
   ]
  },
  {
   "cell_type": "code",
   "execution_count": null,
   "metadata": {},
   "outputs": [],
   "source": []
  }
 ],
 "metadata": {
  "kernelspec": {
   "display_name": "Julia 1.6.2",
   "language": "julia",
   "name": "julia-1.6"
  },
  "language_info": {
   "file_extension": ".jl",
   "mimetype": "application/julia",
   "name": "julia",
   "version": "1.6.2"
  },
  "orig_nbformat": 4
 },
 "nbformat": 4,
 "nbformat_minor": 2
}
