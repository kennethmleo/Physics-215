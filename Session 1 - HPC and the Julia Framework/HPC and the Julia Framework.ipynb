{
 "cells": [
  {
   "cell_type": "code",
   "execution_count": 2,
   "metadata": {},
   "outputs": [
    {
     "name": "stderr",
     "output_type": "stream",
     "text": [
      "\u001b[32m\u001b[1m  Activating\u001b[22m\u001b[39m new environment at `~/Documents/Github2/Physics-215-Julia/Session 1 - HPC and the Julia Framework/Project.toml`\n"
     ]
    }
   ],
   "source": [
    "using Pkg\n",
    "Pkg.activate(\".\")"
   ]
  },
  {
   "cell_type": "markdown",
   "metadata": {},
   "source": [
    "### KR1: Use ```@code_*``` to examine a simple function. The `*` is replaceable by `native`, `typed`, `warntype`, and others. Discover them.\n",
    "\n",
    "Let us first define a simple function. Written below is a function that takes two variables and outputs their sum."
   ]
  },
  {
   "cell_type": "code",
   "execution_count": 3,
   "metadata": {},
   "outputs": [
    {
     "data": {
      "text/plain": [
       "f (generic function with 1 method)"
      ]
     },
     "execution_count": 3,
     "metadata": {},
     "output_type": "execute_result"
    }
   ],
   "source": [
    "function f(x,y) x + y end"
   ]
  },
  {
   "cell_type": "code",
   "execution_count": 4,
   "metadata": {},
   "outputs": [
    {
     "name": "stdout",
     "output_type": "stream",
     "text": [
      "\t\u001b[0m.section\t\u001b[0m__TEXT\u001b[0m,\u001b[0m__text\u001b[0m,\u001b[0mregular\u001b[0m,\u001b[0mpure_instructions\n",
      "\u001b[90m; ┌ @ In[3]:1 within `f'\u001b[39m\n",
      "\u001b[90m; │┌ @ int.jl:87 within `+'\u001b[39m\n",
      "\t\u001b[96m\u001b[1mleaq\u001b[22m\u001b[39m\t\u001b[33m(\u001b[39m\u001b[0m%rdi\u001b[0m,\u001b[0m%rsi\u001b[33m)\u001b[39m\u001b[0m, \u001b[0m%rax\n",
      "\u001b[90m; │└\u001b[39m\n",
      "\t\u001b[96m\u001b[1mretq\u001b[22m\u001b[39m\n",
      "\t\u001b[96m\u001b[1mnopw\u001b[22m\u001b[39m\t\u001b[0m%cs\u001b[0m:\u001b[33m(\u001b[39m\u001b[0m%rax\u001b[0m,\u001b[0m%rax\u001b[33m)\u001b[39m\n",
      "\u001b[90m; └\u001b[39m\n"
     ]
    }
   ],
   "source": [
    "@code_native f(1,2)"
   ]
  },
  {
   "cell_type": "code",
   "execution_count": 5,
   "metadata": {},
   "outputs": [
    {
     "data": {
      "text/plain": [
       "CodeInfo(\n",
       "\u001b[90m1 ─\u001b[39m %1 = Base.sitofp(Float64, y)\u001b[36m::Float64\u001b[39m\n",
       "\u001b[90m│  \u001b[39m %2 = Base.add_float(x, %1)\u001b[36m::Float64\u001b[39m\n",
       "\u001b[90m└──\u001b[39m      return %2\n",
       ") => Float64"
      ]
     },
     "execution_count": 5,
     "metadata": {},
     "output_type": "execute_result"
    }
   ],
   "source": [
    "@code_typed f(1.1,2)"
   ]
  },
  {
   "cell_type": "code",
   "execution_count": 6,
   "metadata": {},
   "outputs": [
    {
     "name": "stdout",
     "output_type": "stream",
     "text": [
      "Variables\n",
      "  #self#\u001b[36m::Core.Const(f)\u001b[39m\n",
      "  x\u001b[36m::Float64\u001b[39m\n",
      "  y\u001b[36m::Int64\u001b[39m\n",
      "\n",
      "Body\u001b[36m::Float64\u001b[39m\n",
      "\u001b[90m1 ─\u001b[39m %1 = (x + y)\u001b[36m::Float64\u001b[39m\n",
      "\u001b[90m└──\u001b[39m      return %1\n"
     ]
    }
   ],
   "source": [
    "@code_warntype f(1.1,2)"
   ]
  },
  {
   "cell_type": "code",
   "execution_count": 7,
   "metadata": {},
   "outputs": [
    {
     "data": {
      "text/plain": [
       "CodeInfo(\n",
       "\u001b[90m1 ─\u001b[39m %1 = x + y\n",
       "\u001b[90m└──\u001b[39m      return %1\n",
       ")"
      ]
     },
     "execution_count": 7,
     "metadata": {},
     "output_type": "execute_result"
    }
   ],
   "source": [
    "@code_lowered f(1,2)"
   ]
  },
  {
   "cell_type": "code",
   "execution_count": 8,
   "metadata": {},
   "outputs": [
    {
     "name": "stdout",
     "output_type": "stream",
     "text": [
      "\u001b[90m;  @ In[3]:1 within `f'\u001b[39m\n",
      "\u001b[95mdefine\u001b[39m \u001b[36mi64\u001b[39m \u001b[93m@julia_f_1908\u001b[39m\u001b[33m(\u001b[39m\u001b[36mi64\u001b[39m \u001b[95msignext\u001b[39m \u001b[0m%0\u001b[0m, \u001b[36mi64\u001b[39m \u001b[95msignext\u001b[39m \u001b[0m%1\u001b[33m)\u001b[39m \u001b[33m{\u001b[39m\n",
      "\u001b[91mtop:\u001b[39m\n",
      "\u001b[90m; ┌ @ int.jl:87 within `+'\u001b[39m\n",
      "   \u001b[0m%2 \u001b[0m= \u001b[96m\u001b[1madd\u001b[22m\u001b[39m \u001b[36mi64\u001b[39m \u001b[0m%1\u001b[0m, \u001b[0m%0\n",
      "\u001b[90m; └\u001b[39m\n",
      "  \u001b[96m\u001b[1mret\u001b[22m\u001b[39m \u001b[36mi64\u001b[39m \u001b[0m%2\n",
      "\u001b[33m}\u001b[39m\n"
     ]
    }
   ],
   "source": [
    "@code_llvm f(1,2)"
   ]
  },
  {
   "cell_type": "markdown",
   "metadata": {},
   "source": [
    "Now all of these `macro` functions are new to me so I will just to explain what I understood from our class discussion and some basic googling. These `macro` functions simply convert your `code` into another form of `code` that has a different expression that I believe is more readable by the machine. Using these `@code_*` macros also show us for example, the data types of our inputs, the step-by-step process inside the function and what the output is. In Julia, there are 5 `@code_*` marcos which are `native`, `typed`, `warntype`, `lowered`, and `llvm`. These difference macro functions are I believe just different formms of how the code is being implemented by Julia."
   ]
  },
  {
   "cell_type": "markdown",
   "metadata": {},
   "source": [
    "### KR2: Demonstrate that Julia is able to determine constants in codes.\n",
    "\n",
    "Let us create a new function `g(x)` that takes a single number then performs a sequence of multiplication and division"
   ]
  },
  {
   "cell_type": "code",
   "execution_count": 42,
   "metadata": {},
   "outputs": [
    {
     "data": {
      "text/plain": [
       "g (generic function with 1 method)"
      ]
     },
     "execution_count": 42,
     "metadata": {},
     "output_type": "execute_result"
    }
   ],
   "source": [
    "function g(x)\n",
    "    a = sqrt(5) * x\n",
    "    return exp(2) / a\n",
    "end"
   ]
  },
  {
   "cell_type": "code",
   "execution_count": 43,
   "metadata": {},
   "outputs": [
    {
     "name": "stdout",
     "output_type": "stream",
     "text": [
      "\u001b[90m;  @ In[42]:1 within `g'\u001b[39m\n",
      "\u001b[95mdefine\u001b[39m \u001b[36mdouble\u001b[39m \u001b[93m@julia_g_2003\u001b[39m\u001b[33m(\u001b[39m\u001b[36mdouble\u001b[39m \u001b[0m%0\u001b[33m)\u001b[39m \u001b[33m{\u001b[39m\n",
      "\u001b[91mtop:\u001b[39m\n",
      "\u001b[90m;  @ In[42]:2 within `g'\u001b[39m\n",
      "\u001b[90m; ┌ @ float.jl:332 within `*'\u001b[39m\n",
      "   \u001b[0m%1 \u001b[0m= \u001b[96m\u001b[1mfmul\u001b[22m\u001b[39m \u001b[36mdouble\u001b[39m \u001b[0m%0\u001b[0m, \u001b[33m0x4001E3779B97F4A8\u001b[39m\n",
      "\u001b[90m; └\u001b[39m\n",
      "\u001b[90m;  @ In[42]:3 within `g'\u001b[39m\n",
      "\u001b[90m; ┌ @ float.jl:335 within `/'\u001b[39m\n",
      "   \u001b[0m%2 \u001b[0m= \u001b[96m\u001b[1mfdiv\u001b[22m\u001b[39m \u001b[36mdouble\u001b[39m \u001b[33m0x401D8E64B8D4DDAE\u001b[39m\u001b[0m, \u001b[0m%1\n",
      "\u001b[90m; └\u001b[39m\n",
      "  \u001b[96m\u001b[1mret\u001b[22m\u001b[39m \u001b[36mdouble\u001b[39m \u001b[0m%2\n",
      "\u001b[33m}\u001b[39m\n"
     ]
    }
   ],
   "source": [
    "@code_llvm  g(1.1)"
   ]
  },
  {
   "cell_type": "markdown",
   "metadata": {},
   "source": [
    "Now the important part of the result of our `@code_llvm` are the following:\n",
    "```\n",
    "%1 = fmul double %0, 0x4001E3779B97F4A8\n",
    "%2 = fdiv double 0x401D8E64B8D4DDAE, %1\n",
    "```\n",
    "Now we see that `%1` represents the first line of our function which is `sqrt(5) * x`. We also see that the constant `sqrt(5)` has been stored in a memory location with value `0x4001E3779B97F4A8`. Now what Julia does is if it sees an expression that does not have a variable where it can be simplified into a single constant value, that value will be stored somewhere so that every time that specific value is needed, Julia will just pull the value from the storage instead of computing it again. This can also be seen in the next line where the value of `exp(2)` is now represented by `0x401D8E64B8D4DDAE`."
   ]
  },
  {
   "cell_type": "markdown",
   "metadata": {},
   "source": [
    "### KR3: Demonstrate Julia's type-inference and multiple dispatch."
   ]
  },
  {
   "cell_type": "code",
   "execution_count": null,
   "metadata": {},
   "outputs": [],
   "source": []
  }
 ],
 "metadata": {
  "kernelspec": {
   "display_name": "Julia 1.6.2",
   "language": "julia",
   "name": "julia-1.6"
  },
  "language_info": {
   "file_extension": ".jl",
   "mimetype": "application/julia",
   "name": "julia",
   "version": "1.6.2"
  },
  "orig_nbformat": 4
 },
 "nbformat": 4,
 "nbformat_minor": 2
}
