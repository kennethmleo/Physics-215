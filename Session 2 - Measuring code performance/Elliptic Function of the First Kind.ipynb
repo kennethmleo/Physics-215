{
 "cells": [
  {
   "cell_type": "code",
   "execution_count": 1,
   "metadata": {},
   "outputs": [
    {
     "name": "stderr",
     "output_type": "stream",
     "text": [
      "\u001b[32m\u001b[1m  Activating\u001b[22m\u001b[39m new environment at `~/Documents/Github2/Physics-215-Julia/Session 2 - Measuring code performance/Project.toml`\n"
     ]
    }
   ],
   "source": [
    "using Pkg\n",
    "Pkg.activate(\".\")"
   ]
  },
  {
   "cell_type": "markdown",
   "metadata": {},
   "source": [
    "### Elliptic Integral of the First Kind\n",
    "\n",
    "### $K(k) = \\int_{0}^{\\frac{\\pi}{2}} \\frac{d\\theta}{\\sqrt{1 - k^2 \\sin^2 \\theta}}$"
   ]
  },
  {
   "cell_type": "markdown",
   "metadata": {},
   "source": [
    "Before doing any integration we must define the function that takes care of our integration $\\int f(x)dx$. The function below solves the N-point Gaussian approximation of our integral."
   ]
  },
  {
   "cell_type": "code",
   "execution_count": 2,
   "metadata": {},
   "outputs": [
    {
     "data": {
      "text/plain": [
       "gaussian_approximation (generic function with 1 method)"
      ]
     },
     "execution_count": 2,
     "metadata": {},
     "output_type": "execute_result"
    }
   ],
   "source": [
    "function gaussian_approximation(N)\n",
    "    global a = collect(LinRange(3,4*N-1,N))/(4*N+2)\n",
    "    global x = cos.(pi*a.+1 ./ (8*N*N*tan.(a)))\n",
    "    \n",
    "    epsilon = 1e-15\n",
    "    global delta = 1.0\n",
    "    while delta > epsilon\n",
    "        p0 = ones(N)\n",
    "        p1 = copy(x)\n",
    "        for k in range(1,N-1, step = 1)\n",
    "            p0, p1 = p1, ((2*k+1).* x .* p1 .-k .*p0)./ (k+1)\n",
    "        end\n",
    "        global dp = (N+1) * (p0 .-x .* p1) ./ (1 .-x.*x)\n",
    "        dx = p1 ./ dp\n",
    "        x = x - dx\n",
    "        global delta = maximum(abs.(dx))\n",
    "    end\n",
    "    w = 2*(N+1)*(N+1)./(N*N.*(1 .-x.*x).*dp.*dp)\n",
    "    return x, w\n",
    "end "
   ]
  },
  {
   "cell_type": "code",
   "execution_count": 3,
   "metadata": {},
   "outputs": [
    {
     "data": {
      "text/plain": [
       "gaussian_approximation (generic function with 2 methods)"
      ]
     },
     "execution_count": 3,
     "metadata": {},
     "output_type": "execute_result"
    }
   ],
   "source": [
    "function gaussian_approximation(N,A,B)\n",
    "    x,w = gaussian_approximation(N)\n",
    "    return 0.5*(B-A) .* x .+ 0.5 .* (B+A), 0.5.* (B-A) .* w\n",
    "end"
   ]
  },
  {
   "cell_type": "code",
   "execution_count": 4,
   "metadata": {},
   "outputs": [
    {
     "data": {
      "text/plain": [
       "my_func (generic function with 1 method)"
      ]
     },
     "execution_count": 4,
     "metadata": {},
     "output_type": "execute_result"
    }
   ],
   "source": [
    "function my_func(m,theta)\n",
    "    return 1 / sqrt(1 - (m * sin(theta)^2))\n",
    "end"
   ]
  },
  {
   "cell_type": "code",
   "execution_count": 5,
   "metadata": {},
   "outputs": [
    {
     "data": {
      "text/plain": [
       "elliptic_integral_first_kind (generic function with 1 method)"
      ]
     },
     "execution_count": 5,
     "metadata": {},
     "output_type": "execute_result"
    }
   ],
   "source": [
    "function elliptic_integral_first_kind(N,m)\n",
    "    A = 0\n",
    "    B = pi/2\n",
    "\n",
    "    x,w = gaussian_approximation(N,A,B)\n",
    "\n",
    "    global integral = 0.\n",
    "    for i in range(1,N, step = 1)\n",
    "        integral += my_func(m, x[i]) * w[i]\n",
    "    end\n",
    "    return integral\n",
    "end"
   ]
  },
  {
   "cell_type": "code",
   "execution_count": 6,
   "metadata": {},
   "outputs": [
    {
     "data": {
      "text/plain": [
       "1.5707963267948966"
      ]
     },
     "execution_count": 6,
     "metadata": {},
     "output_type": "execute_result"
    }
   ],
   "source": [
    "N = 100\n",
    "m = 0\n",
    "elliptic_integral_first_kind(N,m)"
   ]
  },
  {
   "cell_type": "code",
   "execution_count": 7,
   "metadata": {},
   "outputs": [],
   "source": [
    "using SpecialFunctions\n",
    "using ProgressMeter"
   ]
  },
  {
   "cell_type": "code",
   "execution_count": 8,
   "metadata": {},
   "outputs": [
    {
     "data": {
      "text/plain": [
       "1.5707963267948966"
      ]
     },
     "execution_count": 8,
     "metadata": {},
     "output_type": "execute_result"
    }
   ],
   "source": [
    "ellipk(m)"
   ]
  },
  {
   "cell_type": "code",
   "execution_count": 22,
   "metadata": {},
   "outputs": [
    {
     "data": {
      "text/plain": [
       "compute_accuracy (generic function with 1 method)"
      ]
     },
     "execution_count": 22,
     "metadata": {},
     "output_type": "execute_result"
    }
   ],
   "source": [
    "function compute_accuracy()\n",
    "    m_vals = -1:0.04:0.96\n",
    "    N_vals = 100:100:5000\n",
    "    \n",
    "    n = 50\n",
    "    accuracy_values = zeros(n,n)\n",
    "    \n",
    "    progress = Progress(n*n)\n",
    "    for ii in 1:n*n\n",
    "        xi, yi = divrem(ii-1, n) .+ (1,1)\n",
    "        own_function = elliptic_integral_first_kind(convert(Int64, N_vals[yi]), m_vals[xi])\n",
    "        builtin_function = ellipk(m_vals[xi])\n",
    "\n",
    "        accuracy_values[xi,yi] = own_function - builtin_function\n",
    "         next!(progress)\n",
    "    end\n",
    "    return accuracy_values\n",
    "end"
   ]
  },
  {
   "cell_type": "code",
   "execution_count": null,
   "metadata": {},
   "outputs": [
    {
     "name": "stderr",
     "output_type": "stream",
     "text": [
      "\u001b[32mProgress:   2%|▊                                        |  ETA: 0:12:52\u001b[39m"
     ]
    }
   ],
   "source": [
    "accuracy_values = compute_accuracy()"
   ]
  },
  {
   "cell_type": "code",
   "execution_count": 11,
   "metadata": {},
   "outputs": [],
   "source": [
    "using Plots"
   ]
  },
  {
   "cell_type": "code",
   "execution_count": 12,
   "metadata": {},
   "outputs": [
    {
     "ename": "LoadError",
     "evalue": "UndefVarError: accuracy_values not defined",
     "output_type": "error",
     "traceback": [
      "UndefVarError: accuracy_values not defined",
      "",
      "Stacktrace:",
      " [1] top-level scope",
      "   @ In[12]:1",
      " [2] eval",
      "   @ ./boot.jl:360 [inlined]",
      " [3] include_string(mapexpr::typeof(REPL.softscope), mod::Module, code::String, filename::String)",
      "   @ Base ./loading.jl:1116"
     ]
    }
   ],
   "source": [
    "heatmap(abs.(accuracy_values), \n",
    "    xticks = (range(1,100, length = 5), range(-0.999,0.999, length = 5)), \n",
    "    yticks = (range(1,100, length = 10), range(10,1000, length = 10)), \n",
    "    c = :gist_yarg)"
   ]
  },
  {
   "cell_type": "code",
   "execution_count": 21,
   "metadata": {},
   "outputs": [
    {
     "data": {
      "text/plain": [
       "50-element Vector{Float64}:\n",
       " -1.0\n",
       " -0.96\n",
       " -0.92\n",
       " -0.88\n",
       " -0.84\n",
       " -0.8\n",
       " -0.76\n",
       " -0.72\n",
       " -0.68\n",
       " -0.64\n",
       " -0.6\n",
       " -0.56\n",
       " -0.52\n",
       "  ⋮\n",
       "  0.52\n",
       "  0.56\n",
       "  0.6\n",
       "  0.64\n",
       "  0.68\n",
       "  0.72\n",
       "  0.76\n",
       "  0.8\n",
       "  0.84\n",
       "  0.88\n",
       "  0.92\n",
       "  0.96"
      ]
     },
     "execution_count": 21,
     "metadata": {},
     "output_type": "execute_result"
    }
   ],
   "source": [
    "collect(-1:0.04:0.96)"
   ]
  },
  {
   "cell_type": "code",
   "execution_count": 14,
   "metadata": {},
   "outputs": [
    {
     "data": {
      "text/plain": [
       "51-element Vector{Int64}:\n",
       "    1\n",
       "  100\n",
       "  200\n",
       "  300\n",
       "  400\n",
       "  500\n",
       "  600\n",
       "  700\n",
       "  800\n",
       "  900\n",
       " 1000\n",
       " 1100\n",
       " 1200\n",
       "    ⋮\n",
       " 3900\n",
       " 4000\n",
       " 4100\n",
       " 4200\n",
       " 4300\n",
       " 4400\n",
       " 4500\n",
       " 4600\n",
       " 4700\n",
       " 4800\n",
       " 4900\n",
       " 5000"
      ]
     },
     "execution_count": 14,
     "metadata": {},
     "output_type": "execute_result"
    }
   ],
   "source": [
    "pushfirst!(collect(100:100:5000), 1)"
   ]
  },
  {
   "cell_type": "code",
   "execution_count": 15,
   "metadata": {},
   "outputs": [
    {
     "data": {
      "text/plain": [
       "2-element Vector{Float64}:\n",
       " 1.0\n",
       " 2.0"
      ]
     },
     "execution_count": 15,
     "metadata": {},
     "output_type": "execute_result"
    }
   ],
   "source": [
    "d = Vector{Float64}()\n",
    "push!(d, 1.0)\n",
    "push!(d, 2.0)"
   ]
  },
  {
   "cell_type": "code",
   "execution_count": null,
   "metadata": {},
   "outputs": [],
   "source": []
  }
 ],
 "metadata": {
  "kernelspec": {
   "display_name": "Julia 1.6.2",
   "language": "julia",
   "name": "julia-1.6"
  },
  "language_info": {
   "file_extension": ".jl",
   "mimetype": "application/julia",
   "name": "julia",
   "version": "1.6.2"
  }
 },
 "nbformat": 4,
 "nbformat_minor": 2
}
