{
 "cells": [
  {
   "cell_type": "code",
   "execution_count": 1,
   "metadata": {},
   "outputs": [
    {
     "name": "stderr",
     "output_type": "stream",
     "text": [
      "\u001b[32m\u001b[1m  Activating\u001b[22m\u001b[39m new environment at `~/Documents/Github2/Physics-215-Julia/Session 2 - Measuring code performance/Project.toml`\n"
     ]
    }
   ],
   "source": [
    "using Pkg\n",
    "Pkg.activate(\".\")"
   ]
  },
  {
   "cell_type": "markdown",
   "metadata": {},
   "source": [
    "### KR1: Implemented (customized) at least one math/physics textbook function, or constant (prefer those that involve a sum or a loop) in Julia. Discuss its importance in Physics."
   ]
  },
  {
   "cell_type": "markdown",
   "metadata": {},
   "source": [
    "One of the most common equations encountered in Physics are the ordinary differential equations. Some examples of ordinary differential equations (ODE) are equations governing circuits and equations for rigid bodies. For first order ODEs, they have the general form:\n",
    "\n",
    "$\\frac{dx}{dt} = f(x,t)$\n",
    "\n",
    "To solve these kind of equations, we can use the Runge-Kutta method. This method have varying degrees of accuracy and is more accurate than the Euler's method, which is a method that approximate solutions. \n",
    "\n",
    "The Runge-Kutta method measures initial value problems of differential equations."
   ]
  },
  {
   "cell_type": "markdown",
   "metadata": {},
   "source": [
    "To demonstate how the Runge-Kutta method works, let us answer Exercise 8.1 in the book Computational Physics by Mark Newman. Suppose we have the simple electronic circuit that acts as a low-pass filter shown below\n",
    "\n",
    "<img src=\"circuit.jpeg\" width=500 height=500 />\n",
    "\n",
    "Using Ohm's law and the capacitor law, we can write the equations that governs the circuit above. The equations are:\n",
    "\n",
    "$IR = V_{in} - V_{out}\\ \\ \\ \\ \\ \\ \\ \\ \\ \\ \\text{     , }\\ \\ \\ \\ \\ \\ \\ \\ \\ \\ Q = CV_{out}\\ \\ \\ \\ \\ \\ \\ \\ \\ \\ \\text{     , }\\ \\ \\ \\ \\ \\ \\ \\ \\ \\ I = \\frac{dQ}{dt}$\n",
    "\n",
    "Combining these three equations will give us our differential equation:\n",
    "\n",
    "$\\frac{dV_{out}}{dt} = \\frac{1}{RC}(V_{in} - V_{out})$\n",
    "\n",
    "Using RK4, which is a fourth-order Runge-Kutta method, we can solve for the output voltage $V_{out}$ given a square-wave with frequency 1 and amplitude 1 as our input signal ($V_{in}$)"
   ]
  },
  {
   "cell_type": "code",
   "execution_count": null,
   "metadata": {},
   "outputs": [],
   "source": []
  }
 ],
 "metadata": {
  "kernelspec": {
   "display_name": "Julia 1.6.2",
   "language": "julia",
   "name": "julia-1.6"
  },
  "language_info": {
   "file_extension": ".jl",
   "mimetype": "application/julia",
   "name": "julia",
   "version": "1.6.2"
  }
 },
 "nbformat": 4,
 "nbformat_minor": 2
}
