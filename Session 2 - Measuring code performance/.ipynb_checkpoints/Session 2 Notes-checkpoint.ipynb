{
 "cells": [
  {
   "cell_type": "markdown",
   "metadata": {},
   "source": [
    "### Session 2: Analyzing Code Performance\n",
    "\n",
    "#### Topics.\n",
    " 1. Timing Julia functions\n",
    " 2. Accurate benchmarking\n",
    " 3. Profiling Julia functions\n",
    " 4. (optional) Tracking detailed memory allocation"
   ]
  },
  {
   "cell_type": "code",
   "execution_count": 1,
   "metadata": {
    "scrolled": true
   },
   "outputs": [
    {
     "name": "stderr",
     "output_type": "stream",
     "text": [
      "\u001b[32m\u001b[1m  Activating\u001b[22m\u001b[39m new environment at `~/Documents/Github2/Physics-215-Julia/Session 2 - Measuring code performance/Project.toml`\n"
     ]
    }
   ],
   "source": [
    "using Pkg\n",
    "Pkg.activate(\".\")"
   ]
  },
  {
   "cell_type": "markdown",
   "metadata": {},
   "source": [
    "**Session 2: Measuring code performance**\n",
    "\n",
    "- Objective: Submit a performance analysis of a self-implemented physics textbook function or constant using Julia benchmarking tools.\n",
    "- KR1: Implemented (customized) at least one math/physics textbook function, or constant (prefer those that involve a sum or a loop) in Julia. Discuss its importance in Physics. See Resources below.\n",
    "- KR2: Compare the performance (accuracy) of the implemented function in comparison with the existing special functions within Julia.\n",
    "- KR3: Successful loading of the `BenchmarkTools` module. May need to add it first via the `Pkg` or REPL package mode.\n",
    "- KR4: Itemized differences between `@time`, `@btime`, `@benchmark` and other `@time`-like macros. Nice if the situations when they are best applied are mentioned.\n",
    "- KR5:  Identified demonstrated useful features within the `Profiler` module of Julia. Features must be explained why useful for your case.\n",
    "- KR6: A discussion of the performance of the implemented function above.\n",
    "- KR7: Disuss the computational complexity of the Madelbrot function you made based on KR5. What is the best `@time` output to use for this?"
   ]
  },
  {
   "cell_type": "code",
   "execution_count": 2,
   "metadata": {},
   "outputs": [
    {
     "data": {
      "text/plain": [
       "seql_sum"
      ]
     },
     "execution_count": 2,
     "metadata": {},
     "output_type": "execute_result"
    }
   ],
   "source": [
    "\"\"\"\n",
    "    seql_sum(x)\n",
    "\n",
    "A naive cumulative function.\n",
    "Input: iterable container `x`\n",
    "Output: sum of all elements of `x`\n",
    "\"\"\"\n",
    "function seql_sum(x)\n",
    "    result = zero(eltype(x))\n",
    "    for i in eachindex(x)\n",
    "        result += x[i]\n",
    "    end\n",
    "    return result\n",
    "end"
   ]
  },
  {
   "cell_type": "code",
   "execution_count": null,
   "metadata": {},
   "outputs": [],
   "source": []
  }
 ],
 "metadata": {
  "kernelspec": {
   "display_name": "Julia 1.6.2",
   "language": "julia",
   "name": "julia-1.6"
  },
  "language_info": {
   "file_extension": ".jl",
   "mimetype": "application/julia",
   "name": "julia",
   "version": "1.6.2"
  }
 },
 "nbformat": 4,
 "nbformat_minor": 2
}
