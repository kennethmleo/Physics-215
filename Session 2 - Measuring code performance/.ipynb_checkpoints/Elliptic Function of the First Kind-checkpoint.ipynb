{
 "cells": [
  {
   "cell_type": "code",
   "execution_count": 1,
   "metadata": {},
   "outputs": [
    {
     "name": "stderr",
     "output_type": "stream",
     "text": [
      "\u001b[32m\u001b[1m  Activating\u001b[22m\u001b[39m new environment at `~/Documents/Github2/Physics-215-Julia/Session 2 - Measuring code performance/Project.toml`\n"
     ]
    }
   ],
   "source": [
    "using Pkg\n",
    "Pkg.activate(\".\")"
   ]
  },
  {
   "cell_type": "markdown",
   "metadata": {},
   "source": [
    "### Elliptic Integral of the First Kind\n",
    "\n",
    "### $\\operatorname{ellipk}(m)\n",
    "                            = K(m)\n",
    "                            = \\int_0^{ \\frac{\\pi}{2} } \\frac{1}{\\sqrt{1 - m \\sin^2 \\theta}} \\, \\mathrm{d}\\theta\n",
    "                            \\quad \\text{for} \\quad m \\in \\left( -\\infty, 1 \\right]$"
   ]
  },
  {
   "cell_type": "markdown",
   "metadata": {},
   "source": [
    "Before doing any integration we must define the function that takes care of our integration $\\int f(x)dx$. The function below solves the N-point Gaussian approximation of our integral."
   ]
  },
  {
   "cell_type": "code",
   "execution_count": 2,
   "metadata": {},
   "outputs": [
    {
     "data": {
      "text/plain": [
       "gaussian_approximation (generic function with 1 method)"
      ]
     },
     "execution_count": 2,
     "metadata": {},
     "output_type": "execute_result"
    }
   ],
   "source": [
    "function gaussian_approximation(N)\n",
    "    global a = collect(LinRange(3,4*N-1,N))/(4*N+2)\n",
    "    global x = cos.(pi*a.+1 ./ (8*N*N*tan.(a)))\n",
    "    \n",
    "    epsilon = 1e-15\n",
    "    global delta = 1.0\n",
    "    while delta > epsilon\n",
    "        p0 = ones(N)\n",
    "        p1 = copy(x)\n",
    "        for k in range(1,N-1, step = 1)\n",
    "            p0, p1 = p1, ((2*k+1).* x .* p1 .-k .*p0)./ (k+1)\n",
    "        end\n",
    "        global dp = (N+1) * (p0 .-x .* p1) ./ (1 .-x.*x)\n",
    "        dx = p1 ./ dp\n",
    "        x = x - dx\n",
    "        global delta = maximum(abs.(dx))\n",
    "    end\n",
    "    w = 2*(N+1)*(N+1)./(N*N.*(1 .-x.*x).*dp.*dp)\n",
    "    return x, w\n",
    "end "
   ]
  },
  {
   "cell_type": "code",
   "execution_count": 3,
   "metadata": {},
   "outputs": [
    {
     "data": {
      "text/plain": [
       "gaussian_approximation (generic function with 2 methods)"
      ]
     },
     "execution_count": 3,
     "metadata": {},
     "output_type": "execute_result"
    }
   ],
   "source": [
    "function gaussian_approximation(N,A,B)\n",
    "    x,w = gaussian_approximation(N)\n",
    "    return 0.5*(B-A) .* x .+ 0.5 .* (B+A), 0.5.* (B-A) .* w\n",
    "end"
   ]
  },
  {
   "cell_type": "code",
   "execution_count": 4,
   "metadata": {},
   "outputs": [
    {
     "data": {
      "text/plain": [
       "my_func (generic function with 1 method)"
      ]
     },
     "execution_count": 4,
     "metadata": {},
     "output_type": "execute_result"
    }
   ],
   "source": [
    "function my_func(m,theta)\n",
    "    return 1 / sqrt(1 - (m * sin(theta)^2))\n",
    "end"
   ]
  },
  {
   "cell_type": "code",
   "execution_count": 5,
   "metadata": {},
   "outputs": [
    {
     "data": {
      "text/plain": [
       "elliptic_integral_first_kind (generic function with 1 method)"
      ]
     },
     "execution_count": 5,
     "metadata": {},
     "output_type": "execute_result"
    }
   ],
   "source": [
    "function elliptic_integral_first_kind(N,m)\n",
    "    A = 0\n",
    "    B = pi/2\n",
    "\n",
    "    x,w = gaussian_approximation(N,A,B)\n",
    "\n",
    "    global integral = 0.\n",
    "    for i in range(1,N, step = 1)\n",
    "        integral += my_func(m, x[i]) * w[i]\n",
    "    end\n",
    "    return integral\n",
    "end"
   ]
  },
  {
   "cell_type": "code",
   "execution_count": 6,
   "metadata": {},
   "outputs": [
    {
     "ename": "LoadError",
     "evalue": "UndefVarError: ellipk not defined",
     "output_type": "error",
     "traceback": [
      "UndefVarError: ellipk not defined",
      "",
      "Stacktrace:",
      " [1] top-level scope",
      "   @ In[6]:3",
      " [2] eval",
      "   @ ./boot.jl:360 [inlined]",
      " [3] include_string(mapexpr::typeof(REPL.softscope), mod::Module, code::String, filename::String)",
      "   @ Base ./loading.jl:1116"
     ]
    }
   ],
   "source": [
    "N = 5000\n",
    "m = 1.\n",
    "elliptic_integral_first_kind(N,m) - ellipk(m)"
   ]
  },
  {
   "cell_type": "code",
   "execution_count": 7,
   "metadata": {},
   "outputs": [],
   "source": [
    "using SpecialFunctions\n",
    "using ProgressMeter"
   ]
  },
  {
   "cell_type": "code",
   "execution_count": 8,
   "metadata": {},
   "outputs": [
    {
     "data": {
      "text/plain": [
       "Inf"
      ]
     },
     "execution_count": 8,
     "metadata": {},
     "output_type": "execute_result"
    }
   ],
   "source": [
    "ellipk(m)"
   ]
  },
  {
   "cell_type": "code",
   "execution_count": 9,
   "metadata": {},
   "outputs": [
    {
     "data": {
      "text/plain": [
       "compute_accuracy (generic function with 1 method)"
      ]
     },
     "execution_count": 9,
     "metadata": {},
     "output_type": "execute_result"
    }
   ],
   "source": [
    "function compute_accuracy()\n",
    "    m_vals = range(-1,1, length = 15)\n",
    "    N_vals = floor.(range(10,5000, length = 30))\n",
    "\n",
    "    difference = zeros(length(N_vals), length(m_vals))\n",
    "    percent_error = zeros(length(N_vals), length(m_vals))\n",
    "    \n",
    "    progress = Progress(length(m_vals)*length(m_vals))\n",
    "    for i in range(1,length(m_vals), step = 1)\n",
    "        for j in range(1,length(N_vals), step = 1)\n",
    "            difference[j,i] = elliptic_integral_first_kind(convert(Int64, N_vals[j]), m_vals[i]) - ellipk(m_vals[i])\n",
    "            percent_error[j,i] = 100 * ((elliptic_integral_first_kind(convert(Int64, N_vals[j]), m_vals[i]) - ellipk(m_vals[i]))/ellipk(m_vals[i]))\n",
    "            next!(progress)\n",
    "        end\n",
    "    end\n",
    "    return difference, percent_error\n",
    "end "
   ]
  },
  {
   "cell_type": "code",
   "execution_count": null,
   "metadata": {
    "scrolled": true
   },
   "outputs": [
    {
     "name": "stderr",
     "output_type": "stream",
     "text": [
      "\u001b[32mProgress: 100%|█████████████████████████████████████████| Time: 0:01:41\u001b[39m\n"
     ]
    }
   ],
   "source": [
    "difference, percent_error = compute_accuracy();"
   ]
  },
  {
   "cell_type": "code",
   "execution_count": null,
   "metadata": {},
   "outputs": [],
   "source": [
    "using Plots"
   ]
  },
  {
   "cell_type": "code",
   "execution_count": null,
   "metadata": {
    "scrolled": false
   },
   "outputs": [],
   "source": [
    "heatmap(difference, \n",
    "    xticks = (range(1,15, length = 5), range(-1,1, length = 5)), \n",
    "    yticks = (range(1,15, length = 10),floor.(range(100,5000, length = 10))),\n",
    "     padding = (0.0, 0.0))"
   ]
  },
  {
   "cell_type": "code",
   "execution_count": null,
   "metadata": {},
   "outputs": [],
   "source": [
    "heatmap(percent_error, \n",
    "    xticks = (range(1,15, length = 5), range(-1,1, length = 5)), \n",
    "    yticks = (range(1,15, length = 10),floor.(range(100,5000, length = 10))), \n",
    "    padding = (0.0, 0.0))"
   ]
  },
  {
   "cell_type": "code",
   "execution_count": null,
   "metadata": {},
   "outputs": [],
   "source": [
    "plot(heatmap.(a,color=:gray,aspect_ratio=:equal,legend=false)...,layout=(3,4))"
   ]
  },
  {
   "cell_type": "code",
   "execution_count": null,
   "metadata": {},
   "outputs": [],
   "source": [
    "plot(heatmap.(difference, \n",
    "        xticks = (range(1,15, length = 5), range(-1,1, length = 5)), \n",
    "        yticks = (range(1,15, length = 10),floor.(range(100,5000, length = 10))),\n",
    "        padding = (0.0, 0.0)),\n",
    "    heatmap.(percent_error, \n",
    "        xticks = (range(1,15, length = 5), range(-1,1, length = 5)), \n",
    "        yticks = (range(1,15, length = 10),floor.(range(100,5000, length = 10))), \n",
    "        padding = (0.0, 0.0)),\n",
    "    layout=(1,2))"
   ]
  }
 ],
 "metadata": {
  "kernelspec": {
   "display_name": "Julia 1.6.2",
   "language": "julia",
   "name": "julia-1.6"
  },
  "language_info": {
   "file_extension": ".jl",
   "mimetype": "application/julia",
   "name": "julia",
   "version": "1.6.2"
  }
 },
 "nbformat": 4,
 "nbformat_minor": 2
}
